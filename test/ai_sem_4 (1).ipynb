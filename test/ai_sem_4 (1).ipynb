{
  "nbformat": 4,
  "nbformat_minor": 0,
  "metadata": {
    "colab": {
      "provenance": []
    },
    "kernelspec": {
      "name": "python3",
      "display_name": "Python 3"
    },
    "language_info": {
      "name": "python"
    }
  },
  "cells": [
    {
      "cell_type": "code",
      "execution_count": null,
      "metadata": {
        "colab": {
          "base_uri": "https://localhost:8080/"
        },
        "id": "dV03Dmwn5Wlw",
        "outputId": "b7c1fd9b-5ae7-43ed-9eae-ca6e473b7bb4"
      },
      "outputs": [
        {
          "output_type": "stream",
          "name": "stdout",
          "text": [
            "Drive already mounted at /content/drive; to attempt to forcibly remount, call drive.mount(\"/content/drive\", force_remount=True).\n"
          ]
        }
      ],
      "source": [
        "from google.colab import drive\n",
        "drive.mount('/content/drive')"
      ]
    },
    {
      "cell_type": "code",
      "source": [
        "import pandas as pd\n",
        "import numpy as np"
      ],
      "metadata": {
        "id": "4DiTMSN2976s"
      },
      "execution_count": null,
      "outputs": []
    },
    {
      "cell_type": "code",
      "source": [
        "df = pd.read_json('/content/drive/MyDrive/PreProcessedDataset/train.json',lines = True)\n",
        "df"
      ],
      "metadata": {
        "colab": {
          "base_uri": "https://localhost:8080/",
          "height": 424
        },
        "id": "M--3C290-IH3",
        "outputId": "93bed3ee-eb4c-4789-e90a-6f6d672fabca"
      },
      "execution_count": null,
      "outputs": [
        {
          "output_type": "execute_result",
          "data": {
            "text/plain": [
              "                                                   source  \\\n",
              "0       [ WP ] You 've finally managed to discover the...   \n",
              "1       [ WP ] The moon is actually a giant egg , and ...   \n",
              "2       [ WP ] You find a rip in time walking through ...   \n",
              "3       [ WP ] For years in your youth the same imagin...   \n",
              "4       [ WP ] You glance at your watch 10:34 am , rou...   \n",
              "...                                                   ...   \n",
              "272595  [ WP ] You wake up , extremely thirsty and dre...   \n",
              "272596  [ WP ] After many years , you finally decide t...   \n",
              "272597  [ WP ] In a world where people can only be kil...   \n",
              "272598  [ WP ] Use a lyric from a song , or even the w...   \n",
              "272599  [ CW ] [ PM ] Write your hero into a corner , ...   \n",
              "\n",
              "                                                   target  \n",
              "0       So many times have I walked on ruins , the rem...  \n",
              "1       -Week 18 aboard the Depth Reaver , Circa 2023-...  \n",
              "2       I was feckin ' sloshed , mate . First time I e...  \n",
              "3       “ No , no no no ... ” She backed up and turned...  \n",
              "4       There 's a magical moment between wakefulness ...  \n",
              "...                                                   ...  \n",
              "272595  `` He was a good man . '' <newline> <newline> ...  \n",
              "272596  The Envelope <newline> <newline> It 's been 23...  \n",
              "272597  17 people . Ive killed 17 people . I cant reme...  \n",
              "272598  > So make the best of this test and do n't ask...  \n",
              "272599  Bob dropped five of the Zeds , reloaded his Co...  \n",
              "\n",
              "[272600 rows x 2 columns]"
            ],
            "text/html": [
              "\n",
              "  <div id=\"df-6da3da6c-4e51-423c-b689-778b695cdfe7\" class=\"colab-df-container\">\n",
              "    <div>\n",
              "<style scoped>\n",
              "    .dataframe tbody tr th:only-of-type {\n",
              "        vertical-align: middle;\n",
              "    }\n",
              "\n",
              "    .dataframe tbody tr th {\n",
              "        vertical-align: top;\n",
              "    }\n",
              "\n",
              "    .dataframe thead th {\n",
              "        text-align: right;\n",
              "    }\n",
              "</style>\n",
              "<table border=\"1\" class=\"dataframe\">\n",
              "  <thead>\n",
              "    <tr style=\"text-align: right;\">\n",
              "      <th></th>\n",
              "      <th>source</th>\n",
              "      <th>target</th>\n",
              "    </tr>\n",
              "  </thead>\n",
              "  <tbody>\n",
              "    <tr>\n",
              "      <th>0</th>\n",
              "      <td>[ WP ] You 've finally managed to discover the...</td>\n",
              "      <td>So many times have I walked on ruins , the rem...</td>\n",
              "    </tr>\n",
              "    <tr>\n",
              "      <th>1</th>\n",
              "      <td>[ WP ] The moon is actually a giant egg , and ...</td>\n",
              "      <td>-Week 18 aboard the Depth Reaver , Circa 2023-...</td>\n",
              "    </tr>\n",
              "    <tr>\n",
              "      <th>2</th>\n",
              "      <td>[ WP ] You find a rip in time walking through ...</td>\n",
              "      <td>I was feckin ' sloshed , mate . First time I e...</td>\n",
              "    </tr>\n",
              "    <tr>\n",
              "      <th>3</th>\n",
              "      <td>[ WP ] For years in your youth the same imagin...</td>\n",
              "      <td>“ No , no no no ... ” She backed up and turned...</td>\n",
              "    </tr>\n",
              "    <tr>\n",
              "      <th>4</th>\n",
              "      <td>[ WP ] You glance at your watch 10:34 am , rou...</td>\n",
              "      <td>There 's a magical moment between wakefulness ...</td>\n",
              "    </tr>\n",
              "    <tr>\n",
              "      <th>...</th>\n",
              "      <td>...</td>\n",
              "      <td>...</td>\n",
              "    </tr>\n",
              "    <tr>\n",
              "      <th>272595</th>\n",
              "      <td>[ WP ] You wake up , extremely thirsty and dre...</td>\n",
              "      <td>`` He was a good man . '' &lt;newline&gt; &lt;newline&gt; ...</td>\n",
              "    </tr>\n",
              "    <tr>\n",
              "      <th>272596</th>\n",
              "      <td>[ WP ] After many years , you finally decide t...</td>\n",
              "      <td>The Envelope &lt;newline&gt; &lt;newline&gt; It 's been 23...</td>\n",
              "    </tr>\n",
              "    <tr>\n",
              "      <th>272597</th>\n",
              "      <td>[ WP ] In a world where people can only be kil...</td>\n",
              "      <td>17 people . Ive killed 17 people . I cant reme...</td>\n",
              "    </tr>\n",
              "    <tr>\n",
              "      <th>272598</th>\n",
              "      <td>[ WP ] Use a lyric from a song , or even the w...</td>\n",
              "      <td>&gt; So make the best of this test and do n't ask...</td>\n",
              "    </tr>\n",
              "    <tr>\n",
              "      <th>272599</th>\n",
              "      <td>[ CW ] [ PM ] Write your hero into a corner , ...</td>\n",
              "      <td>Bob dropped five of the Zeds , reloaded his Co...</td>\n",
              "    </tr>\n",
              "  </tbody>\n",
              "</table>\n",
              "<p>272600 rows × 2 columns</p>\n",
              "</div>\n",
              "    <div class=\"colab-df-buttons\">\n",
              "\n",
              "  <div class=\"colab-df-container\">\n",
              "    <button class=\"colab-df-convert\" onclick=\"convertToInteractive('df-6da3da6c-4e51-423c-b689-778b695cdfe7')\"\n",
              "            title=\"Convert this dataframe to an interactive table.\"\n",
              "            style=\"display:none;\">\n",
              "\n",
              "  <svg xmlns=\"http://www.w3.org/2000/svg\" height=\"24px\" viewBox=\"0 -960 960 960\">\n",
              "    <path d=\"M120-120v-720h720v720H120Zm60-500h600v-160H180v160Zm220 220h160v-160H400v160Zm0 220h160v-160H400v160ZM180-400h160v-160H180v160Zm440 0h160v-160H620v160ZM180-180h160v-160H180v160Zm440 0h160v-160H620v160Z\"/>\n",
              "  </svg>\n",
              "    </button>\n",
              "\n",
              "  <style>\n",
              "    .colab-df-container {\n",
              "      display:flex;\n",
              "      gap: 12px;\n",
              "    }\n",
              "\n",
              "    .colab-df-convert {\n",
              "      background-color: #E8F0FE;\n",
              "      border: none;\n",
              "      border-radius: 50%;\n",
              "      cursor: pointer;\n",
              "      display: none;\n",
              "      fill: #1967D2;\n",
              "      height: 32px;\n",
              "      padding: 0 0 0 0;\n",
              "      width: 32px;\n",
              "    }\n",
              "\n",
              "    .colab-df-convert:hover {\n",
              "      background-color: #E2EBFA;\n",
              "      box-shadow: 0px 1px 2px rgba(60, 64, 67, 0.3), 0px 1px 3px 1px rgba(60, 64, 67, 0.15);\n",
              "      fill: #174EA6;\n",
              "    }\n",
              "\n",
              "    .colab-df-buttons div {\n",
              "      margin-bottom: 4px;\n",
              "    }\n",
              "\n",
              "    [theme=dark] .colab-df-convert {\n",
              "      background-color: #3B4455;\n",
              "      fill: #D2E3FC;\n",
              "    }\n",
              "\n",
              "    [theme=dark] .colab-df-convert:hover {\n",
              "      background-color: #434B5C;\n",
              "      box-shadow: 0px 1px 3px 1px rgba(0, 0, 0, 0.15);\n",
              "      filter: drop-shadow(0px 1px 2px rgba(0, 0, 0, 0.3));\n",
              "      fill: #FFFFFF;\n",
              "    }\n",
              "  </style>\n",
              "\n",
              "    <script>\n",
              "      const buttonEl =\n",
              "        document.querySelector('#df-6da3da6c-4e51-423c-b689-778b695cdfe7 button.colab-df-convert');\n",
              "      buttonEl.style.display =\n",
              "        google.colab.kernel.accessAllowed ? 'block' : 'none';\n",
              "\n",
              "      async function convertToInteractive(key) {\n",
              "        const element = document.querySelector('#df-6da3da6c-4e51-423c-b689-778b695cdfe7');\n",
              "        const dataTable =\n",
              "          await google.colab.kernel.invokeFunction('convertToInteractive',\n",
              "                                                    [key], {});\n",
              "        if (!dataTable) return;\n",
              "\n",
              "        const docLinkHtml = 'Like what you see? Visit the ' +\n",
              "          '<a target=\"_blank\" href=https://colab.research.google.com/notebooks/data_table.ipynb>data table notebook</a>'\n",
              "          + ' to learn more about interactive tables.';\n",
              "        element.innerHTML = '';\n",
              "        dataTable['output_type'] = 'display_data';\n",
              "        await google.colab.output.renderOutput(dataTable, element);\n",
              "        const docLink = document.createElement('div');\n",
              "        docLink.innerHTML = docLinkHtml;\n",
              "        element.appendChild(docLink);\n",
              "      }\n",
              "    </script>\n",
              "  </div>\n",
              "\n",
              "\n",
              "<div id=\"df-0e143e22-2c4d-4d37-ad6b-d032ef904e7b\">\n",
              "  <button class=\"colab-df-quickchart\" onclick=\"quickchart('df-0e143e22-2c4d-4d37-ad6b-d032ef904e7b')\"\n",
              "            title=\"Suggest charts\"\n",
              "            style=\"display:none;\">\n",
              "\n",
              "<svg xmlns=\"http://www.w3.org/2000/svg\" height=\"24px\"viewBox=\"0 0 24 24\"\n",
              "     width=\"24px\">\n",
              "    <g>\n",
              "        <path d=\"M19 3H5c-1.1 0-2 .9-2 2v14c0 1.1.9 2 2 2h14c1.1 0 2-.9 2-2V5c0-1.1-.9-2-2-2zM9 17H7v-7h2v7zm4 0h-2V7h2v10zm4 0h-2v-4h2v4z\"/>\n",
              "    </g>\n",
              "</svg>\n",
              "  </button>\n",
              "\n",
              "<style>\n",
              "  .colab-df-quickchart {\n",
              "      --bg-color: #E8F0FE;\n",
              "      --fill-color: #1967D2;\n",
              "      --hover-bg-color: #E2EBFA;\n",
              "      --hover-fill-color: #174EA6;\n",
              "      --disabled-fill-color: #AAA;\n",
              "      --disabled-bg-color: #DDD;\n",
              "  }\n",
              "\n",
              "  [theme=dark] .colab-df-quickchart {\n",
              "      --bg-color: #3B4455;\n",
              "      --fill-color: #D2E3FC;\n",
              "      --hover-bg-color: #434B5C;\n",
              "      --hover-fill-color: #FFFFFF;\n",
              "      --disabled-bg-color: #3B4455;\n",
              "      --disabled-fill-color: #666;\n",
              "  }\n",
              "\n",
              "  .colab-df-quickchart {\n",
              "    background-color: var(--bg-color);\n",
              "    border: none;\n",
              "    border-radius: 50%;\n",
              "    cursor: pointer;\n",
              "    display: none;\n",
              "    fill: var(--fill-color);\n",
              "    height: 32px;\n",
              "    padding: 0;\n",
              "    width: 32px;\n",
              "  }\n",
              "\n",
              "  .colab-df-quickchart:hover {\n",
              "    background-color: var(--hover-bg-color);\n",
              "    box-shadow: 0 1px 2px rgba(60, 64, 67, 0.3), 0 1px 3px 1px rgba(60, 64, 67, 0.15);\n",
              "    fill: var(--button-hover-fill-color);\n",
              "  }\n",
              "\n",
              "  .colab-df-quickchart-complete:disabled,\n",
              "  .colab-df-quickchart-complete:disabled:hover {\n",
              "    background-color: var(--disabled-bg-color);\n",
              "    fill: var(--disabled-fill-color);\n",
              "    box-shadow: none;\n",
              "  }\n",
              "\n",
              "  .colab-df-spinner {\n",
              "    border: 2px solid var(--fill-color);\n",
              "    border-color: transparent;\n",
              "    border-bottom-color: var(--fill-color);\n",
              "    animation:\n",
              "      spin 1s steps(1) infinite;\n",
              "  }\n",
              "\n",
              "  @keyframes spin {\n",
              "    0% {\n",
              "      border-color: transparent;\n",
              "      border-bottom-color: var(--fill-color);\n",
              "      border-left-color: var(--fill-color);\n",
              "    }\n",
              "    20% {\n",
              "      border-color: transparent;\n",
              "      border-left-color: var(--fill-color);\n",
              "      border-top-color: var(--fill-color);\n",
              "    }\n",
              "    30% {\n",
              "      border-color: transparent;\n",
              "      border-left-color: var(--fill-color);\n",
              "      border-top-color: var(--fill-color);\n",
              "      border-right-color: var(--fill-color);\n",
              "    }\n",
              "    40% {\n",
              "      border-color: transparent;\n",
              "      border-right-color: var(--fill-color);\n",
              "      border-top-color: var(--fill-color);\n",
              "    }\n",
              "    60% {\n",
              "      border-color: transparent;\n",
              "      border-right-color: var(--fill-color);\n",
              "    }\n",
              "    80% {\n",
              "      border-color: transparent;\n",
              "      border-right-color: var(--fill-color);\n",
              "      border-bottom-color: var(--fill-color);\n",
              "    }\n",
              "    90% {\n",
              "      border-color: transparent;\n",
              "      border-bottom-color: var(--fill-color);\n",
              "    }\n",
              "  }\n",
              "</style>\n",
              "\n",
              "  <script>\n",
              "    async function quickchart(key) {\n",
              "      const quickchartButtonEl =\n",
              "        document.querySelector('#' + key + ' button');\n",
              "      quickchartButtonEl.disabled = true;  // To prevent multiple clicks.\n",
              "      quickchartButtonEl.classList.add('colab-df-spinner');\n",
              "      try {\n",
              "        const charts = await google.colab.kernel.invokeFunction(\n",
              "            'suggestCharts', [key], {});\n",
              "      } catch (error) {\n",
              "        console.error('Error during call to suggestCharts:', error);\n",
              "      }\n",
              "      quickchartButtonEl.classList.remove('colab-df-spinner');\n",
              "      quickchartButtonEl.classList.add('colab-df-quickchart-complete');\n",
              "    }\n",
              "    (() => {\n",
              "      let quickchartButtonEl =\n",
              "        document.querySelector('#df-0e143e22-2c4d-4d37-ad6b-d032ef904e7b button');\n",
              "      quickchartButtonEl.style.display =\n",
              "        google.colab.kernel.accessAllowed ? 'block' : 'none';\n",
              "    })();\n",
              "  </script>\n",
              "</div>\n",
              "\n",
              "  <div id=\"id_a9cf418b-3362-430f-a98a-fec51a505984\">\n",
              "    <style>\n",
              "      .colab-df-generate {\n",
              "        background-color: #E8F0FE;\n",
              "        border: none;\n",
              "        border-radius: 50%;\n",
              "        cursor: pointer;\n",
              "        display: none;\n",
              "        fill: #1967D2;\n",
              "        height: 32px;\n",
              "        padding: 0 0 0 0;\n",
              "        width: 32px;\n",
              "      }\n",
              "\n",
              "      .colab-df-generate:hover {\n",
              "        background-color: #E2EBFA;\n",
              "        box-shadow: 0px 1px 2px rgba(60, 64, 67, 0.3), 0px 1px 3px 1px rgba(60, 64, 67, 0.15);\n",
              "        fill: #174EA6;\n",
              "      }\n",
              "\n",
              "      [theme=dark] .colab-df-generate {\n",
              "        background-color: #3B4455;\n",
              "        fill: #D2E3FC;\n",
              "      }\n",
              "\n",
              "      [theme=dark] .colab-df-generate:hover {\n",
              "        background-color: #434B5C;\n",
              "        box-shadow: 0px 1px 3px 1px rgba(0, 0, 0, 0.15);\n",
              "        filter: drop-shadow(0px 1px 2px rgba(0, 0, 0, 0.3));\n",
              "        fill: #FFFFFF;\n",
              "      }\n",
              "    </style>\n",
              "    <button class=\"colab-df-generate\" onclick=\"generateWithVariable('df')\"\n",
              "            title=\"Generate code using this dataframe.\"\n",
              "            style=\"display:none;\">\n",
              "\n",
              "  <svg xmlns=\"http://www.w3.org/2000/svg\" height=\"24px\"viewBox=\"0 0 24 24\"\n",
              "       width=\"24px\">\n",
              "    <path d=\"M7,19H8.4L18.45,9,17,7.55,7,17.6ZM5,21V16.75L18.45,3.32a2,2,0,0,1,2.83,0l1.4,1.43a1.91,1.91,0,0,1,.58,1.4,1.91,1.91,0,0,1-.58,1.4L9.25,21ZM18.45,9,17,7.55Zm-12,3A5.31,5.31,0,0,0,4.9,8.1,5.31,5.31,0,0,0,1,6.5,5.31,5.31,0,0,0,4.9,4.9,5.31,5.31,0,0,0,6.5,1,5.31,5.31,0,0,0,8.1,4.9,5.31,5.31,0,0,0,12,6.5,5.46,5.46,0,0,0,6.5,12Z\"/>\n",
              "  </svg>\n",
              "    </button>\n",
              "    <script>\n",
              "      (() => {\n",
              "      const buttonEl =\n",
              "        document.querySelector('#id_a9cf418b-3362-430f-a98a-fec51a505984 button.colab-df-generate');\n",
              "      buttonEl.style.display =\n",
              "        google.colab.kernel.accessAllowed ? 'block' : 'none';\n",
              "\n",
              "      buttonEl.onclick = () => {\n",
              "        google.colab.notebook.generateWithVariable('df');\n",
              "      }\n",
              "      })();\n",
              "    </script>\n",
              "  </div>\n",
              "\n",
              "    </div>\n",
              "  </div>\n"
            ],
            "application/vnd.google.colaboratory.intrinsic+json": {
              "type": "dataframe",
              "variable_name": "df"
            }
          },
          "metadata": {},
          "execution_count": 2
        }
      ]
    },
    {
      "cell_type": "markdown",
      "source": [
        "# **part 1**\n"
      ],
      "metadata": {
        "id": "zCvNgENa_Rk8"
      }
    },
    {
      "cell_type": "markdown",
      "source": [
        "# bigrams model"
      ],
      "metadata": {
        "id": "q7rntgDt_hAq"
      }
    },
    {
      "cell_type": "code",
      "source": [
        "df['merged'] = df['source'] + \" \" + df['target']\n",
        "df"
      ],
      "metadata": {
        "colab": {
          "base_uri": "https://localhost:8080/",
          "height": 424
        },
        "id": "QaJ5EpxV-vhX",
        "outputId": "787759c8-e1a2-4414-ef6f-61690c77f899"
      },
      "execution_count": null,
      "outputs": [
        {
          "output_type": "execute_result",
          "data": {
            "text/plain": [
              "                                                   source  \\\n",
              "0       [ WP ] You 've finally managed to discover the...   \n",
              "1       [ WP ] The moon is actually a giant egg , and ...   \n",
              "2       [ WP ] You find a rip in time walking through ...   \n",
              "3       [ WP ] For years in your youth the same imagin...   \n",
              "4       [ WP ] You glance at your watch 10:34 am , rou...   \n",
              "...                                                   ...   \n",
              "272595  [ WP ] You wake up , extremely thirsty and dre...   \n",
              "272596  [ WP ] After many years , you finally decide t...   \n",
              "272597  [ WP ] In a world where people can only be kil...   \n",
              "272598  [ WP ] Use a lyric from a song , or even the w...   \n",
              "272599  [ CW ] [ PM ] Write your hero into a corner , ...   \n",
              "\n",
              "                                                   target  \\\n",
              "0       So many times have I walked on ruins , the rem...   \n",
              "1       -Week 18 aboard the Depth Reaver , Circa 2023-...   \n",
              "2       I was feckin ' sloshed , mate . First time I e...   \n",
              "3       “ No , no no no ... ” She backed up and turned...   \n",
              "4       There 's a magical moment between wakefulness ...   \n",
              "...                                                   ...   \n",
              "272595  `` He was a good man . '' <newline> <newline> ...   \n",
              "272596  The Envelope <newline> <newline> It 's been 23...   \n",
              "272597  17 people . Ive killed 17 people . I cant reme...   \n",
              "272598  > So make the best of this test and do n't ask...   \n",
              "272599  Bob dropped five of the Zeds , reloaded his Co...   \n",
              "\n",
              "                                                   merged  \n",
              "0       [ WP ] You 've finally managed to discover the...  \n",
              "1       [ WP ] The moon is actually a giant egg , and ...  \n",
              "2       [ WP ] You find a rip in time walking through ...  \n",
              "3       [ WP ] For years in your youth the same imagin...  \n",
              "4       [ WP ] You glance at your watch 10:34 am , rou...  \n",
              "...                                                   ...  \n",
              "272595  [ WP ] You wake up , extremely thirsty and dre...  \n",
              "272596  [ WP ] After many years , you finally decide t...  \n",
              "272597  [ WP ] In a world where people can only be kil...  \n",
              "272598  [ WP ] Use a lyric from a song , or even the w...  \n",
              "272599  [ CW ] [ PM ] Write your hero into a corner , ...  \n",
              "\n",
              "[272600 rows x 3 columns]"
            ],
            "text/html": [
              "\n",
              "  <div id=\"df-27dc6640-cee9-45d3-9e18-45b2690b29bb\" class=\"colab-df-container\">\n",
              "    <div>\n",
              "<style scoped>\n",
              "    .dataframe tbody tr th:only-of-type {\n",
              "        vertical-align: middle;\n",
              "    }\n",
              "\n",
              "    .dataframe tbody tr th {\n",
              "        vertical-align: top;\n",
              "    }\n",
              "\n",
              "    .dataframe thead th {\n",
              "        text-align: right;\n",
              "    }\n",
              "</style>\n",
              "<table border=\"1\" class=\"dataframe\">\n",
              "  <thead>\n",
              "    <tr style=\"text-align: right;\">\n",
              "      <th></th>\n",
              "      <th>source</th>\n",
              "      <th>target</th>\n",
              "      <th>merged</th>\n",
              "    </tr>\n",
              "  </thead>\n",
              "  <tbody>\n",
              "    <tr>\n",
              "      <th>0</th>\n",
              "      <td>[ WP ] You 've finally managed to discover the...</td>\n",
              "      <td>So many times have I walked on ruins , the rem...</td>\n",
              "      <td>[ WP ] You 've finally managed to discover the...</td>\n",
              "    </tr>\n",
              "    <tr>\n",
              "      <th>1</th>\n",
              "      <td>[ WP ] The moon is actually a giant egg , and ...</td>\n",
              "      <td>-Week 18 aboard the Depth Reaver , Circa 2023-...</td>\n",
              "      <td>[ WP ] The moon is actually a giant egg , and ...</td>\n",
              "    </tr>\n",
              "    <tr>\n",
              "      <th>2</th>\n",
              "      <td>[ WP ] You find a rip in time walking through ...</td>\n",
              "      <td>I was feckin ' sloshed , mate . First time I e...</td>\n",
              "      <td>[ WP ] You find a rip in time walking through ...</td>\n",
              "    </tr>\n",
              "    <tr>\n",
              "      <th>3</th>\n",
              "      <td>[ WP ] For years in your youth the same imagin...</td>\n",
              "      <td>“ No , no no no ... ” She backed up and turned...</td>\n",
              "      <td>[ WP ] For years in your youth the same imagin...</td>\n",
              "    </tr>\n",
              "    <tr>\n",
              "      <th>4</th>\n",
              "      <td>[ WP ] You glance at your watch 10:34 am , rou...</td>\n",
              "      <td>There 's a magical moment between wakefulness ...</td>\n",
              "      <td>[ WP ] You glance at your watch 10:34 am , rou...</td>\n",
              "    </tr>\n",
              "    <tr>\n",
              "      <th>...</th>\n",
              "      <td>...</td>\n",
              "      <td>...</td>\n",
              "      <td>...</td>\n",
              "    </tr>\n",
              "    <tr>\n",
              "      <th>272595</th>\n",
              "      <td>[ WP ] You wake up , extremely thirsty and dre...</td>\n",
              "      <td>`` He was a good man . '' &lt;newline&gt; &lt;newline&gt; ...</td>\n",
              "      <td>[ WP ] You wake up , extremely thirsty and dre...</td>\n",
              "    </tr>\n",
              "    <tr>\n",
              "      <th>272596</th>\n",
              "      <td>[ WP ] After many years , you finally decide t...</td>\n",
              "      <td>The Envelope &lt;newline&gt; &lt;newline&gt; It 's been 23...</td>\n",
              "      <td>[ WP ] After many years , you finally decide t...</td>\n",
              "    </tr>\n",
              "    <tr>\n",
              "      <th>272597</th>\n",
              "      <td>[ WP ] In a world where people can only be kil...</td>\n",
              "      <td>17 people . Ive killed 17 people . I cant reme...</td>\n",
              "      <td>[ WP ] In a world where people can only be kil...</td>\n",
              "    </tr>\n",
              "    <tr>\n",
              "      <th>272598</th>\n",
              "      <td>[ WP ] Use a lyric from a song , or even the w...</td>\n",
              "      <td>&gt; So make the best of this test and do n't ask...</td>\n",
              "      <td>[ WP ] Use a lyric from a song , or even the w...</td>\n",
              "    </tr>\n",
              "    <tr>\n",
              "      <th>272599</th>\n",
              "      <td>[ CW ] [ PM ] Write your hero into a corner , ...</td>\n",
              "      <td>Bob dropped five of the Zeds , reloaded his Co...</td>\n",
              "      <td>[ CW ] [ PM ] Write your hero into a corner , ...</td>\n",
              "    </tr>\n",
              "  </tbody>\n",
              "</table>\n",
              "<p>272600 rows × 3 columns</p>\n",
              "</div>\n",
              "    <div class=\"colab-df-buttons\">\n",
              "\n",
              "  <div class=\"colab-df-container\">\n",
              "    <button class=\"colab-df-convert\" onclick=\"convertToInteractive('df-27dc6640-cee9-45d3-9e18-45b2690b29bb')\"\n",
              "            title=\"Convert this dataframe to an interactive table.\"\n",
              "            style=\"display:none;\">\n",
              "\n",
              "  <svg xmlns=\"http://www.w3.org/2000/svg\" height=\"24px\" viewBox=\"0 -960 960 960\">\n",
              "    <path d=\"M120-120v-720h720v720H120Zm60-500h600v-160H180v160Zm220 220h160v-160H400v160Zm0 220h160v-160H400v160ZM180-400h160v-160H180v160Zm440 0h160v-160H620v160ZM180-180h160v-160H180v160Zm440 0h160v-160H620v160Z\"/>\n",
              "  </svg>\n",
              "    </button>\n",
              "\n",
              "  <style>\n",
              "    .colab-df-container {\n",
              "      display:flex;\n",
              "      gap: 12px;\n",
              "    }\n",
              "\n",
              "    .colab-df-convert {\n",
              "      background-color: #E8F0FE;\n",
              "      border: none;\n",
              "      border-radius: 50%;\n",
              "      cursor: pointer;\n",
              "      display: none;\n",
              "      fill: #1967D2;\n",
              "      height: 32px;\n",
              "      padding: 0 0 0 0;\n",
              "      width: 32px;\n",
              "    }\n",
              "\n",
              "    .colab-df-convert:hover {\n",
              "      background-color: #E2EBFA;\n",
              "      box-shadow: 0px 1px 2px rgba(60, 64, 67, 0.3), 0px 1px 3px 1px rgba(60, 64, 67, 0.15);\n",
              "      fill: #174EA6;\n",
              "    }\n",
              "\n",
              "    .colab-df-buttons div {\n",
              "      margin-bottom: 4px;\n",
              "    }\n",
              "\n",
              "    [theme=dark] .colab-df-convert {\n",
              "      background-color: #3B4455;\n",
              "      fill: #D2E3FC;\n",
              "    }\n",
              "\n",
              "    [theme=dark] .colab-df-convert:hover {\n",
              "      background-color: #434B5C;\n",
              "      box-shadow: 0px 1px 3px 1px rgba(0, 0, 0, 0.15);\n",
              "      filter: drop-shadow(0px 1px 2px rgba(0, 0, 0, 0.3));\n",
              "      fill: #FFFFFF;\n",
              "    }\n",
              "  </style>\n",
              "\n",
              "    <script>\n",
              "      const buttonEl =\n",
              "        document.querySelector('#df-27dc6640-cee9-45d3-9e18-45b2690b29bb button.colab-df-convert');\n",
              "      buttonEl.style.display =\n",
              "        google.colab.kernel.accessAllowed ? 'block' : 'none';\n",
              "\n",
              "      async function convertToInteractive(key) {\n",
              "        const element = document.querySelector('#df-27dc6640-cee9-45d3-9e18-45b2690b29bb');\n",
              "        const dataTable =\n",
              "          await google.colab.kernel.invokeFunction('convertToInteractive',\n",
              "                                                    [key], {});\n",
              "        if (!dataTable) return;\n",
              "\n",
              "        const docLinkHtml = 'Like what you see? Visit the ' +\n",
              "          '<a target=\"_blank\" href=https://colab.research.google.com/notebooks/data_table.ipynb>data table notebook</a>'\n",
              "          + ' to learn more about interactive tables.';\n",
              "        element.innerHTML = '';\n",
              "        dataTable['output_type'] = 'display_data';\n",
              "        await google.colab.output.renderOutput(dataTable, element);\n",
              "        const docLink = document.createElement('div');\n",
              "        docLink.innerHTML = docLinkHtml;\n",
              "        element.appendChild(docLink);\n",
              "      }\n",
              "    </script>\n",
              "  </div>\n",
              "\n",
              "\n",
              "<div id=\"df-da54d805-db71-44f5-9a53-33abc88d704e\">\n",
              "  <button class=\"colab-df-quickchart\" onclick=\"quickchart('df-da54d805-db71-44f5-9a53-33abc88d704e')\"\n",
              "            title=\"Suggest charts\"\n",
              "            style=\"display:none;\">\n",
              "\n",
              "<svg xmlns=\"http://www.w3.org/2000/svg\" height=\"24px\"viewBox=\"0 0 24 24\"\n",
              "     width=\"24px\">\n",
              "    <g>\n",
              "        <path d=\"M19 3H5c-1.1 0-2 .9-2 2v14c0 1.1.9 2 2 2h14c1.1 0 2-.9 2-2V5c0-1.1-.9-2-2-2zM9 17H7v-7h2v7zm4 0h-2V7h2v10zm4 0h-2v-4h2v4z\"/>\n",
              "    </g>\n",
              "</svg>\n",
              "  </button>\n",
              "\n",
              "<style>\n",
              "  .colab-df-quickchart {\n",
              "      --bg-color: #E8F0FE;\n",
              "      --fill-color: #1967D2;\n",
              "      --hover-bg-color: #E2EBFA;\n",
              "      --hover-fill-color: #174EA6;\n",
              "      --disabled-fill-color: #AAA;\n",
              "      --disabled-bg-color: #DDD;\n",
              "  }\n",
              "\n",
              "  [theme=dark] .colab-df-quickchart {\n",
              "      --bg-color: #3B4455;\n",
              "      --fill-color: #D2E3FC;\n",
              "      --hover-bg-color: #434B5C;\n",
              "      --hover-fill-color: #FFFFFF;\n",
              "      --disabled-bg-color: #3B4455;\n",
              "      --disabled-fill-color: #666;\n",
              "  }\n",
              "\n",
              "  .colab-df-quickchart {\n",
              "    background-color: var(--bg-color);\n",
              "    border: none;\n",
              "    border-radius: 50%;\n",
              "    cursor: pointer;\n",
              "    display: none;\n",
              "    fill: var(--fill-color);\n",
              "    height: 32px;\n",
              "    padding: 0;\n",
              "    width: 32px;\n",
              "  }\n",
              "\n",
              "  .colab-df-quickchart:hover {\n",
              "    background-color: var(--hover-bg-color);\n",
              "    box-shadow: 0 1px 2px rgba(60, 64, 67, 0.3), 0 1px 3px 1px rgba(60, 64, 67, 0.15);\n",
              "    fill: var(--button-hover-fill-color);\n",
              "  }\n",
              "\n",
              "  .colab-df-quickchart-complete:disabled,\n",
              "  .colab-df-quickchart-complete:disabled:hover {\n",
              "    background-color: var(--disabled-bg-color);\n",
              "    fill: var(--disabled-fill-color);\n",
              "    box-shadow: none;\n",
              "  }\n",
              "\n",
              "  .colab-df-spinner {\n",
              "    border: 2px solid var(--fill-color);\n",
              "    border-color: transparent;\n",
              "    border-bottom-color: var(--fill-color);\n",
              "    animation:\n",
              "      spin 1s steps(1) infinite;\n",
              "  }\n",
              "\n",
              "  @keyframes spin {\n",
              "    0% {\n",
              "      border-color: transparent;\n",
              "      border-bottom-color: var(--fill-color);\n",
              "      border-left-color: var(--fill-color);\n",
              "    }\n",
              "    20% {\n",
              "      border-color: transparent;\n",
              "      border-left-color: var(--fill-color);\n",
              "      border-top-color: var(--fill-color);\n",
              "    }\n",
              "    30% {\n",
              "      border-color: transparent;\n",
              "      border-left-color: var(--fill-color);\n",
              "      border-top-color: var(--fill-color);\n",
              "      border-right-color: var(--fill-color);\n",
              "    }\n",
              "    40% {\n",
              "      border-color: transparent;\n",
              "      border-right-color: var(--fill-color);\n",
              "      border-top-color: var(--fill-color);\n",
              "    }\n",
              "    60% {\n",
              "      border-color: transparent;\n",
              "      border-right-color: var(--fill-color);\n",
              "    }\n",
              "    80% {\n",
              "      border-color: transparent;\n",
              "      border-right-color: var(--fill-color);\n",
              "      border-bottom-color: var(--fill-color);\n",
              "    }\n",
              "    90% {\n",
              "      border-color: transparent;\n",
              "      border-bottom-color: var(--fill-color);\n",
              "    }\n",
              "  }\n",
              "</style>\n",
              "\n",
              "  <script>\n",
              "    async function quickchart(key) {\n",
              "      const quickchartButtonEl =\n",
              "        document.querySelector('#' + key + ' button');\n",
              "      quickchartButtonEl.disabled = true;  // To prevent multiple clicks.\n",
              "      quickchartButtonEl.classList.add('colab-df-spinner');\n",
              "      try {\n",
              "        const charts = await google.colab.kernel.invokeFunction(\n",
              "            'suggestCharts', [key], {});\n",
              "      } catch (error) {\n",
              "        console.error('Error during call to suggestCharts:', error);\n",
              "      }\n",
              "      quickchartButtonEl.classList.remove('colab-df-spinner');\n",
              "      quickchartButtonEl.classList.add('colab-df-quickchart-complete');\n",
              "    }\n",
              "    (() => {\n",
              "      let quickchartButtonEl =\n",
              "        document.querySelector('#df-da54d805-db71-44f5-9a53-33abc88d704e button');\n",
              "      quickchartButtonEl.style.display =\n",
              "        google.colab.kernel.accessAllowed ? 'block' : 'none';\n",
              "    })();\n",
              "  </script>\n",
              "</div>\n",
              "\n",
              "  <div id=\"id_4967fb98-482e-46ec-bef5-1cf9d139cd45\">\n",
              "    <style>\n",
              "      .colab-df-generate {\n",
              "        background-color: #E8F0FE;\n",
              "        border: none;\n",
              "        border-radius: 50%;\n",
              "        cursor: pointer;\n",
              "        display: none;\n",
              "        fill: #1967D2;\n",
              "        height: 32px;\n",
              "        padding: 0 0 0 0;\n",
              "        width: 32px;\n",
              "      }\n",
              "\n",
              "      .colab-df-generate:hover {\n",
              "        background-color: #E2EBFA;\n",
              "        box-shadow: 0px 1px 2px rgba(60, 64, 67, 0.3), 0px 1px 3px 1px rgba(60, 64, 67, 0.15);\n",
              "        fill: #174EA6;\n",
              "      }\n",
              "\n",
              "      [theme=dark] .colab-df-generate {\n",
              "        background-color: #3B4455;\n",
              "        fill: #D2E3FC;\n",
              "      }\n",
              "\n",
              "      [theme=dark] .colab-df-generate:hover {\n",
              "        background-color: #434B5C;\n",
              "        box-shadow: 0px 1px 3px 1px rgba(0, 0, 0, 0.15);\n",
              "        filter: drop-shadow(0px 1px 2px rgba(0, 0, 0, 0.3));\n",
              "        fill: #FFFFFF;\n",
              "      }\n",
              "    </style>\n",
              "    <button class=\"colab-df-generate\" onclick=\"generateWithVariable('df')\"\n",
              "            title=\"Generate code using this dataframe.\"\n",
              "            style=\"display:none;\">\n",
              "\n",
              "  <svg xmlns=\"http://www.w3.org/2000/svg\" height=\"24px\"viewBox=\"0 0 24 24\"\n",
              "       width=\"24px\">\n",
              "    <path d=\"M7,19H8.4L18.45,9,17,7.55,7,17.6ZM5,21V16.75L18.45,3.32a2,2,0,0,1,2.83,0l1.4,1.43a1.91,1.91,0,0,1,.58,1.4,1.91,1.91,0,0,1-.58,1.4L9.25,21ZM18.45,9,17,7.55Zm-12,3A5.31,5.31,0,0,0,4.9,8.1,5.31,5.31,0,0,0,1,6.5,5.31,5.31,0,0,0,4.9,4.9,5.31,5.31,0,0,0,6.5,1,5.31,5.31,0,0,0,8.1,4.9,5.31,5.31,0,0,0,12,6.5,5.46,5.46,0,0,0,6.5,12Z\"/>\n",
              "  </svg>\n",
              "    </button>\n",
              "    <script>\n",
              "      (() => {\n",
              "      const buttonEl =\n",
              "        document.querySelector('#id_4967fb98-482e-46ec-bef5-1cf9d139cd45 button.colab-df-generate');\n",
              "      buttonEl.style.display =\n",
              "        google.colab.kernel.accessAllowed ? 'block' : 'none';\n",
              "\n",
              "      buttonEl.onclick = () => {\n",
              "        google.colab.notebook.generateWithVariable('df');\n",
              "      }\n",
              "      })();\n",
              "    </script>\n",
              "  </div>\n",
              "\n",
              "    </div>\n",
              "  </div>\n"
            ],
            "application/vnd.google.colaboratory.intrinsic+json": {
              "type": "dataframe",
              "variable_name": "df"
            }
          },
          "metadata": {},
          "execution_count": 3
        }
      ]
    },
    {
      "cell_type": "code",
      "source": [
        "special_char = ' # '\n",
        "text = special_char.join(df['merged'].dropna().astype(str))\n",
        "len(text)"
      ],
      "metadata": {
        "colab": {
          "base_uri": "https://localhost:8080/"
        },
        "id": "PkWZE_y1CSYc",
        "outputId": "f54e86db-652f-498f-f5a6-f615284317bf"
      },
      "execution_count": null,
      "outputs": [
        {
          "output_type": "execute_result",
          "data": {
            "text/plain": [
              "944467148"
            ]
          },
          "metadata": {},
          "execution_count": 4
        }
      ]
    },
    {
      "cell_type": "code",
      "source": [
        "ok = int(0.01*len(text))\n",
        "text = text[:ok]"
      ],
      "metadata": {
        "id": "I-56kZeeFPOH"
      },
      "execution_count": null,
      "outputs": []
    },
    {
      "cell_type": "code",
      "source": [
        "unique_chars = set(text)\n",
        "print(unique_chars)"
      ],
      "metadata": {
        "colab": {
          "base_uri": "https://localhost:8080/"
        },
        "id": "09j9vNX6C110",
        "outputId": "86762197-8e18-48b5-f454-82137891d9e7"
      },
      "execution_count": null,
      "outputs": [
        {
          "output_type": "stream",
          "name": "stdout",
          "text": [
            "{'ê', 'F', 'o', '=', '!', 'è', 'р', 'ï', '،', '-', 'y', '6', 'ϐ', 'u', 'ل', '_', 'أ', '%', '\\u200b', '0', 'á', 'B', ';', '´', 't', 'В', '⊙', 'ö', 'Q', 'ë', '－', 'ð', 'ß', 'щ', 'D', 'е', '≥', ' ', '^', '«', '(', 'V', '―', 'а', '.', '×', 'ا', 'ت', 'Z', 'آ', '?', 'ы', ')', 'м', 'م', '…', 'с', 'т', 'ю', 'Y', 'ó', 'k', 'Э', '№', 'd', 'L', 'П', '❧', 'ь', '–', '”', '*', 'ب', 'c', '|', '\\x90', '$', 'a', 'о', '！', '’', 'r', 'n', 'T', 'R', 'ж', '4', 'E', 'm', '/', 'ջ', ',', '▦', 'О', 'Т', '9', '‽', '3', '\\x10', 'I', 'A', 'ه', '~', '@', 'ę', 'ä', 'п', 'ط', 'ø', '▶', 'خ', 'W', 'Ֆ', '\\\\', '\\x81', 'v', 'к', 'х', 'в', 'M', '®', 'س', '}', '5', '¡', 'g', '∞', '`', 'w', 'б', ']', '>', 'ذ', 'Ϡ', 'д', '{', 'л', 'ن', 'ك', '╬', '☂', 'Ö', 'f', '»', 'i', '2', 'q', 'ç', '£', '1', 'j', 'й', '◀', 'C', 'Δ', 'Д', 'e', 'h', '\\ufeff', '+', '。', '&', 'Ԭ', 'P', '[', 'ف', 'و', '÷', 'ج', 'z', 'Н', 'b', 'É', '#', 'ч', 'p', 'N', '‘', '<', 'غ', 'С', 'X', '\\n', 'H', '8', '，', 'x', 'º', '™', '“', 'J', 'ü', '7', 'ي', 'Л', 'Ч', 'π', 's', 'н', \"'\", 'и', 'ة', '—', 'ق', 'ã', 'ē', 'Р', ':', '°', 'G', '₪', 'у', 'ء', '؟', '♦', 'د', 'ض', 'з', 'ú', 'ر', 'S', 'U', 'Ϣ', 'إ', '„', 'é', 'K', 'ñ', 'O', 'l', '◕', 'г'}\n"
          ]
        }
      ]
    },
    {
      "cell_type": "code",
      "source": [
        "import re\n",
        "allowed_chars = \"a-zA-Z\\n,\\.! \"  # allowed: english letters, newline, comma, period, exclamation mark, and space\n",
        "allowed_chars_pattern = f\"[^{allowed_chars}]\"\n",
        "cleaned_text = re.sub(allowed_chars_pattern, '', text)\n"
      ],
      "metadata": {
        "id": "urCz7N-LDcz9"
      },
      "execution_count": null,
      "outputs": []
    },
    {
      "cell_type": "code",
      "source": [
        "len(cleaned_text)"
      ],
      "metadata": {
        "colab": {
          "base_uri": "https://localhost:8080/"
        },
        "id": "ia8XEJXlEUn8",
        "outputId": "d3408ab3-6777-48b6-b75f-b7cd9928abed"
      },
      "execution_count": null,
      "outputs": [
        {
          "output_type": "execute_result",
          "data": {
            "text/plain": [
              "9087940"
            ]
          },
          "metadata": {},
          "execution_count": 8
        }
      ]
    },
    {
      "cell_type": "code",
      "source": [
        "unique_chars = set(cleaned_text)\n",
        "print(unique_chars)"
      ],
      "metadata": {
        "colab": {
          "base_uri": "https://localhost:8080/"
        },
        "id": "9ru2AkswEMDn",
        "outputId": "bcdd1783-75f9-4285-bb84-003bb366d83c"
      },
      "execution_count": null,
      "outputs": [
        {
          "output_type": "stream",
          "name": "stdout",
          "text": [
            "{'z', 'Y', 'F', 'v', 'b', 'k', 'd', 'o', 'p', 'N', 'M', '!', 'L', 'X', '\\n', 'H', 'y', 'x', 'g', 'c', 'u', 'a', 'w', 'J', 'r', 'n', 's', 'T', 'R', 'B', 'f', 't', 'E', 'Q', 'm', 'i', 'q', 'D', ' ', ',', 'j', 'G', 'C', 'e', 'h', 'V', 'I', 'A', '.', 'S', 'U', 'Z', 'P', 'K', 'O', 'l', 'W'}\n"
          ]
        }
      ]
    },
    {
      "cell_type": "markdown",
      "source": [
        "normal neural net\n"
      ],
      "metadata": {
        "id": "_arXysTjPJIQ"
      }
    },
    {
      "cell_type": "code",
      "source": [
        "chars = sorted(set(cleaned_text))\n",
        "vocab_size = len(chars)\n",
        "chars\n"
      ],
      "metadata": {
        "colab": {
          "base_uri": "https://localhost:8080/"
        },
        "id": "zQlD5p8a1FgQ",
        "outputId": "d7b3be76-9bd0-422a-baae-b0602fc56876"
      },
      "execution_count": null,
      "outputs": [
        {
          "output_type": "execute_result",
          "data": {
            "text/plain": [
              "['\\n',\n",
              " ' ',\n",
              " '!',\n",
              " ',',\n",
              " '.',\n",
              " 'A',\n",
              " 'B',\n",
              " 'C',\n",
              " 'D',\n",
              " 'E',\n",
              " 'F',\n",
              " 'G',\n",
              " 'H',\n",
              " 'I',\n",
              " 'J',\n",
              " 'K',\n",
              " 'L',\n",
              " 'M',\n",
              " 'N',\n",
              " 'O',\n",
              " 'P',\n",
              " 'Q',\n",
              " 'R',\n",
              " 'S',\n",
              " 'T',\n",
              " 'U',\n",
              " 'V',\n",
              " 'W',\n",
              " 'X',\n",
              " 'Y',\n",
              " 'Z',\n",
              " 'a',\n",
              " 'b',\n",
              " 'c',\n",
              " 'd',\n",
              " 'e',\n",
              " 'f',\n",
              " 'g',\n",
              " 'h',\n",
              " 'i',\n",
              " 'j',\n",
              " 'k',\n",
              " 'l',\n",
              " 'm',\n",
              " 'n',\n",
              " 'o',\n",
              " 'p',\n",
              " 'q',\n",
              " 'r',\n",
              " 's',\n",
              " 't',\n",
              " 'u',\n",
              " 'v',\n",
              " 'w',\n",
              " 'x',\n",
              " 'y',\n",
              " 'z']"
            ]
          },
          "metadata": {},
          "execution_count": 10
        }
      ]
    },
    {
      "cell_type": "code",
      "source": [
        "letter_to_number = {letter: idx for idx, letter in enumerate(chars)}\n",
        "encoded_text = [letter_to_number[char] for char in cleaned_text]"
      ],
      "metadata": {
        "id": "49ucI9hx1Krs"
      },
      "execution_count": null,
      "outputs": []
    },
    {
      "cell_type": "code",
      "source": [
        "n = int(0.9*len(encoded_text))\n",
        "train = encoded_text[:n]\n",
        "test = encoded_text[n:]"
      ],
      "metadata": {
        "id": "V0rTSyQSPPNB"
      },
      "execution_count": null,
      "outputs": []
    },
    {
      "cell_type": "code",
      "source": [
        "block_size = 16\n",
        "train[:block_size+1]"
      ],
      "metadata": {
        "colab": {
          "base_uri": "https://localhost:8080/"
        },
        "id": "dW9oKHLY04yC",
        "outputId": "aca8331a-183c-4519-ff30-4461724271dd"
      },
      "execution_count": null,
      "outputs": [
        {
          "output_type": "execute_result",
          "data": {
            "text/plain": [
              "[1, 27, 20, 1, 1, 29, 45, 51, 1, 52, 35, 1, 36, 39, 44, 31, 42]"
            ]
          },
          "metadata": {},
          "execution_count": 13
        }
      ]
    },
    {
      "cell_type": "code",
      "source": [
        "import torch"
      ],
      "metadata": {
        "id": "E9QF7Cgn2Rlu"
      },
      "execution_count": null,
      "outputs": []
    },
    {
      "cell_type": "markdown",
      "source": [
        "better way to encode"
      ],
      "metadata": {
        "id": "06UY-St63xzC"
      }
    },
    {
      "cell_type": "code",
      "source": [
        "stoi = { ch:i for i,ch in enumerate(chars) }\n",
        "itos = { i:ch for i,ch in enumerate(chars) }\n",
        "encode = lambda s: [stoi[c] for c in s] # encoder: take a string, output a list of integers\n",
        "decode = lambda l: ''.join([itos[i] for i in l]) # decoder: take a list of integers, output a string\n"
      ],
      "metadata": {
        "id": "MYvHhmGM4CHC"
      },
      "execution_count": null,
      "outputs": []
    },
    {
      "cell_type": "code",
      "source": [
        "data = torch.tensor(encode(cleaned_text), dtype=torch.long)\n",
        "print(data.shape, data.dtype)\n",
        "print(data[:1000])"
      ],
      "metadata": {
        "colab": {
          "base_uri": "https://localhost:8080/"
        },
        "collapsed": true,
        "id": "dniLNmv02SrF",
        "outputId": "78e9f35b-d5ce-4250-96f1-3cbfd8f4aed0"
      },
      "execution_count": null,
      "outputs": [
        {
          "output_type": "stream",
          "name": "stdout",
          "text": [
            "torch.Size([9087940]) torch.int64\n",
            "tensor([ 1, 27, 20,  1,  1, 29, 45, 51,  1, 52, 35,  1, 36, 39, 44, 31, 42, 42,\n",
            "        55,  1, 43, 31, 44, 31, 37, 35, 34,  1, 50, 45,  1, 34, 39, 49, 33, 45,\n",
            "        52, 35, 48,  1, 50, 38, 35,  1, 49, 35, 33, 48, 35, 50,  1, 50, 45,  1,\n",
            "        39, 43, 43, 45, 48, 50, 31, 42, 39, 50, 55,  1,  4,  1, 23, 51, 34, 34,\n",
            "        35, 44, 42, 55,  1,  3,  1,  8, 35, 31, 50, 38,  1, 31, 46, 46, 35, 31,\n",
            "        48, 49,  1, 32, 35, 36, 45, 48, 35,  1, 55, 45, 51,  1,  3,  1, 38, 31,\n",
            "        44, 34, 49,  1, 55, 45, 51,  1, 31,  1, 32, 51, 49, 39, 44, 35, 49, 49,\n",
            "         1, 33, 31, 48, 34,  1,  3,  1, 31, 44, 34,  1, 49, 31, 55, 49,  1,  3,\n",
            "         1,  1, 27, 38, 35, 44,  1, 55, 45, 51,  1, 48, 35, 31, 42, 39, 56, 35,\n",
            "         1, 42, 39, 52, 39, 44, 37,  1, 36, 45, 48, 35, 52, 35, 48,  1, 49, 51,\n",
            "        33, 41, 49,  1,  3,  1, 33, 31, 42, 42,  1, 50, 38, 39, 49,  1, 44, 51,\n",
            "        43, 32, 35, 48,  1,  3,  1, 13,  1, 52, 35,  1, 37, 45, 50,  1, 31,  1,\n",
            "        40, 45, 32,  1, 45, 36, 36, 35, 48,  1, 36, 45, 48,  1, 55, 45, 51,  1,\n",
            "         4,  1,  0,  1, 23, 45,  1, 43, 31, 44, 55,  1, 50, 39, 43, 35, 49,  1,\n",
            "        38, 31, 52, 35,  1, 13,  1, 53, 31, 42, 41, 35, 34,  1, 45, 44,  1, 48,\n",
            "        51, 39, 44, 49,  1,  3,  1, 50, 38, 35,  1, 48, 35, 43, 31, 39, 44, 39,\n",
            "        44, 37, 49,  1, 45, 36,  1, 46, 42, 31, 33, 35, 49,  1, 50, 38, 31, 50,\n",
            "         1, 13,  1, 42, 45, 52, 35, 34,  1, 31, 44, 34,  1, 37, 45, 50,  1, 51,\n",
            "        49, 35, 34,  1, 50, 45,  4,  4,  1,  5, 50,  1, 36, 39, 48, 49, 50,  1,\n",
            "        13,  1, 53, 31, 49,  1, 49, 33, 31, 48, 35, 34,  1,  3,  1, 35, 31, 33,\n",
            "        38,  1, 50, 39, 43, 35,  1, 13,  1, 33, 45, 51, 42, 34,  1, 36, 35, 35,\n",
            "        42,  1, 43, 55,  1, 33, 39, 50, 55,  1,  3,  1, 43, 55,  1, 33, 51, 48,\n",
            "        48, 35, 44, 50,  1, 37, 35, 44, 35, 48, 31, 50, 39, 45, 44,  1, 33, 45,\n",
            "        42, 42, 31, 46, 49, 35,  1,  3,  1, 32, 48, 35, 31, 41,  1, 39, 44, 50,\n",
            "        45,  1, 50, 38, 35,  1, 32, 42, 31, 33, 41,  1, 38, 45, 42, 35,  1, 50,\n",
            "        38, 31, 50,  1, 50, 38, 48, 39, 52, 35, 49,  1, 53, 39, 50, 38, 39, 44,\n",
            "         1, 39, 50,  1,  3,  1, 13,  1, 33, 45, 51, 42, 34,  1, 36, 35, 35, 42,\n",
            "         1, 38, 51, 43, 31, 44, 39, 50, 55,  1,  3,  1, 50, 38, 35,  1, 53, 31,\n",
            "        55,  1, 13,  1, 43,  1, 31, 32, 42, 35,  1, 50, 45,  1, 36, 35, 35, 42,\n",
            "         1, 43, 55,  1, 32, 45, 34, 55,  4,  4,  1,  5, 36, 50, 35, 48,  1, 31,\n",
            "         1, 36, 35, 53,  1, 38, 51, 44, 34, 48, 35, 34,  1, 55, 35, 31, 48, 49,\n",
            "         1,  3,  1, 50, 38, 35,  1, 46, 31, 50, 50, 35, 48, 44,  1, 32, 35, 33,\n",
            "        31, 43, 35,  1, 45, 32, 52, 39, 45, 51, 49,  1,  3,  1, 44, 45,  1, 42,\n",
            "        45, 44, 37, 35, 48,  1, 50, 38, 35,  1, 53, 31, 48,  1, 31, 44, 34,  1,\n",
            "        34, 31, 43, 31, 37, 35,  1, 50, 38, 31, 50,  1, 53, 45, 51, 42, 34,  1,\n",
            "        34, 35, 52, 31, 49, 50, 31, 50, 35,  1, 43, 35,  1, 45, 52, 35, 48,  1,\n",
            "        31, 44, 34,  1, 45, 52, 35, 48,  1, 31, 37, 31, 39, 44,  1, 39, 44,  1,\n",
            "        50, 38, 35,  1, 36, 31, 48,  1, 46, 31, 49, 50,  1, 53, 31, 49,  1, 35,\n",
            "        36, 36, 35, 33, 50, 39, 44, 37,  1, 43, 35,  1, 49, 45,  1, 34, 45, 43,\n",
            "        39, 44, 31, 44, 50, 42, 55,  1,  4,  1, 44, 35, 53, 42, 39, 44, 35,  1,\n",
            "        13, 50,  1, 49,  1, 36, 51, 44, 44, 55,  1,  3,  1, 32, 51, 50,  1, 13,\n",
            "         1, 36, 35, 42, 50,  1, 31, 49,  1, 39, 36,  1, 31, 36, 50, 35, 48,  1,\n",
            "        37, 31, 39, 44, 39, 44, 37,  1, 53, 38, 31, 50,  1, 13,  1, 34, 35, 49,\n",
            "        39, 48, 35, 34,  1, 49, 45,  1, 42, 45, 44, 37,  1,  3,  1, 53, 38, 31,\n",
            "        50,  1, 13,  1, 38, 31, 52, 35,  1, 42, 39, 52, 35, 34,  1, 36, 45, 48,\n",
            "         1, 43, 55,  1, 35, 44, 50, 39, 48, 35,  1, 42, 39, 36, 35,  1,  3,  1,\n",
            "        45, 44, 42, 55,  1, 50, 38, 35, 44,  1,  3,  1, 53, 38, 35, 44,  1, 13,\n",
            "         1, 31, 33, 38, 39, 35, 52, 35, 34,  1, 39, 43, 43, 45, 48, 50, 31, 42,\n",
            "        39, 50, 55,  1, 13,  1, 49, 50, 31, 48, 50, 35, 34,  1, 50, 48, 51, 42,\n",
            "        55,  1, 31, 37, 39, 44, 37,  1,  4,  1, 44, 35, 53, 42, 39, 44, 35,  1,\n",
            "        44, 35, 53, 42, 39, 44, 35,  1,  1, 53, 45, 48, 42, 34,  1, 53, 31, 48,\n",
            "        49,  1, 38, 31, 52, 35,  1, 46, 31, 49, 49, 35, 34,  1,  3,  1, 31, 44,\n",
            "        34,  1, 44, 45, 53,  1, 50, 38, 35, 55,  1, 36, 35, 35, 42,  1, 42, 39,\n",
            "        41, 35,  1, 31,  1, 49, 39, 43, 46, 42, 35,  1, 49, 39, 33, 41, 35, 44,\n",
            "        35, 49, 49,  1, 50, 38, 31, 50,  1, 53, 45, 51, 42, 34,  1, 46, 31, 49,\n",
            "        49,  1, 32, 55,  1, 35, 52, 35, 48, 55])\n"
          ]
        }
      ]
    },
    {
      "cell_type": "code",
      "source": [
        "n = int(0.9*len(data)) # first 90% will be train, rest val\n",
        "train_data = data[:n]\n",
        "val_data = data[n:]"
      ],
      "metadata": {
        "id": "nxjla7yG4M9A"
      },
      "execution_count": null,
      "outputs": []
    },
    {
      "cell_type": "code",
      "source": [
        "torch.manual_seed(1337)\n",
        "batch_size = 6 # how many independent sequences will we process in parallel?\n",
        "block_size = 16 # what is the maximum context length for predictions? will increase this later this is just for testing\n",
        "\n",
        "def get_batch(split):\n",
        "    # generate a small batch of data of inputs x and targets y\n",
        "    data = train_data if split == 'train' else val_data\n",
        "    ix = torch.randint(len(data) - block_size, (batch_size,))\n",
        "    x = torch.stack([data[i:i+block_size] for i in ix])\n",
        "    y = torch.stack([data[i+1:i+block_size+1] for i in ix])\n",
        "    return x, y\n",
        "\n",
        "xb, yb = get_batch('train')\n",
        "print('inputs:')\n",
        "print(xb.shape)\n",
        "print(xb)\n",
        "print('targets:')\n",
        "print(yb.shape)\n",
        "print(yb)\n",
        "\n",
        "print('----')\n",
        "\n",
        "for b in range(batch_size): # batch dimension\n",
        "    for t in range(block_size): # time dimension\n",
        "        context = xb[b, :t+1]\n",
        "        target = yb[b,t]\n",
        "        print(f\"when input is {context.tolist()} the target: {target}\")"
      ],
      "metadata": {
        "colab": {
          "base_uri": "https://localhost:8080/"
        },
        "id": "OY2arQNw4Np7",
        "outputId": "df9d7829-e581-4f59-b22b-70c04fcad77e"
      },
      "execution_count": null,
      "outputs": [
        {
          "output_type": "stream",
          "name": "stdout",
          "text": [
            "inputs:\n",
            "torch.Size([6, 16])\n",
            "tensor([[39, 44, 37,  1, 39, 50,  1, 51, 44, 50, 39, 42,  1, 50, 38, 35],\n",
            "        [55,  1,  4,  1,  1, 44, 35, 53, 42, 39, 44, 35,  1, 44, 35, 53],\n",
            "        [50, 38, 35,  1, 49, 50, 48, 35, 35, 50, 49,  1, 50, 38, 35,  1],\n",
            "        [55,  1,  4,  0,  1, 24, 38, 35,  1, 49, 46, 31, 48, 41, 42, 39],\n",
            "        [46, 42, 39, 35, 49,  1, 53, 39, 50, 38,  1, 31, 44, 37, 35, 48],\n",
            "        [34,  1, 33, 38, 35, 33, 41,  1, 36, 45, 48,  1, 55, 45, 51, 48]])\n",
            "targets:\n",
            "torch.Size([6, 16])\n",
            "tensor([[44, 37,  1, 39, 50,  1, 51, 44, 50, 39, 42,  1, 50, 38, 35,  1],\n",
            "        [ 1,  4,  1,  1, 44, 35, 53, 42, 39, 44, 35,  1, 44, 35, 53, 42],\n",
            "        [38, 35,  1, 49, 50, 48, 35, 35, 50, 49,  1, 50, 38, 35,  1, 31],\n",
            "        [ 1,  4,  0,  1, 24, 38, 35,  1, 49, 46, 31, 48, 41, 42, 39, 35],\n",
            "        [42, 39, 35, 49,  1, 53, 39, 50, 38,  1, 31, 44, 37, 35, 48,  1],\n",
            "        [ 1, 33, 38, 35, 33, 41,  1, 36, 45, 48,  1, 55, 45, 51, 48, 49]])\n",
            "----\n",
            "when input is [39] the target: 44\n",
            "when input is [39, 44] the target: 37\n",
            "when input is [39, 44, 37] the target: 1\n",
            "when input is [39, 44, 37, 1] the target: 39\n",
            "when input is [39, 44, 37, 1, 39] the target: 50\n",
            "when input is [39, 44, 37, 1, 39, 50] the target: 1\n",
            "when input is [39, 44, 37, 1, 39, 50, 1] the target: 51\n",
            "when input is [39, 44, 37, 1, 39, 50, 1, 51] the target: 44\n",
            "when input is [39, 44, 37, 1, 39, 50, 1, 51, 44] the target: 50\n",
            "when input is [39, 44, 37, 1, 39, 50, 1, 51, 44, 50] the target: 39\n",
            "when input is [39, 44, 37, 1, 39, 50, 1, 51, 44, 50, 39] the target: 42\n",
            "when input is [39, 44, 37, 1, 39, 50, 1, 51, 44, 50, 39, 42] the target: 1\n",
            "when input is [39, 44, 37, 1, 39, 50, 1, 51, 44, 50, 39, 42, 1] the target: 50\n",
            "when input is [39, 44, 37, 1, 39, 50, 1, 51, 44, 50, 39, 42, 1, 50] the target: 38\n",
            "when input is [39, 44, 37, 1, 39, 50, 1, 51, 44, 50, 39, 42, 1, 50, 38] the target: 35\n",
            "when input is [39, 44, 37, 1, 39, 50, 1, 51, 44, 50, 39, 42, 1, 50, 38, 35] the target: 1\n",
            "when input is [55] the target: 1\n",
            "when input is [55, 1] the target: 4\n",
            "when input is [55, 1, 4] the target: 1\n",
            "when input is [55, 1, 4, 1] the target: 1\n",
            "when input is [55, 1, 4, 1, 1] the target: 44\n",
            "when input is [55, 1, 4, 1, 1, 44] the target: 35\n",
            "when input is [55, 1, 4, 1, 1, 44, 35] the target: 53\n",
            "when input is [55, 1, 4, 1, 1, 44, 35, 53] the target: 42\n",
            "when input is [55, 1, 4, 1, 1, 44, 35, 53, 42] the target: 39\n",
            "when input is [55, 1, 4, 1, 1, 44, 35, 53, 42, 39] the target: 44\n",
            "when input is [55, 1, 4, 1, 1, 44, 35, 53, 42, 39, 44] the target: 35\n",
            "when input is [55, 1, 4, 1, 1, 44, 35, 53, 42, 39, 44, 35] the target: 1\n",
            "when input is [55, 1, 4, 1, 1, 44, 35, 53, 42, 39, 44, 35, 1] the target: 44\n",
            "when input is [55, 1, 4, 1, 1, 44, 35, 53, 42, 39, 44, 35, 1, 44] the target: 35\n",
            "when input is [55, 1, 4, 1, 1, 44, 35, 53, 42, 39, 44, 35, 1, 44, 35] the target: 53\n",
            "when input is [55, 1, 4, 1, 1, 44, 35, 53, 42, 39, 44, 35, 1, 44, 35, 53] the target: 42\n",
            "when input is [50] the target: 38\n",
            "when input is [50, 38] the target: 35\n",
            "when input is [50, 38, 35] the target: 1\n",
            "when input is [50, 38, 35, 1] the target: 49\n",
            "when input is [50, 38, 35, 1, 49] the target: 50\n",
            "when input is [50, 38, 35, 1, 49, 50] the target: 48\n",
            "when input is [50, 38, 35, 1, 49, 50, 48] the target: 35\n",
            "when input is [50, 38, 35, 1, 49, 50, 48, 35] the target: 35\n",
            "when input is [50, 38, 35, 1, 49, 50, 48, 35, 35] the target: 50\n",
            "when input is [50, 38, 35, 1, 49, 50, 48, 35, 35, 50] the target: 49\n",
            "when input is [50, 38, 35, 1, 49, 50, 48, 35, 35, 50, 49] the target: 1\n",
            "when input is [50, 38, 35, 1, 49, 50, 48, 35, 35, 50, 49, 1] the target: 50\n",
            "when input is [50, 38, 35, 1, 49, 50, 48, 35, 35, 50, 49, 1, 50] the target: 38\n",
            "when input is [50, 38, 35, 1, 49, 50, 48, 35, 35, 50, 49, 1, 50, 38] the target: 35\n",
            "when input is [50, 38, 35, 1, 49, 50, 48, 35, 35, 50, 49, 1, 50, 38, 35] the target: 1\n",
            "when input is [50, 38, 35, 1, 49, 50, 48, 35, 35, 50, 49, 1, 50, 38, 35, 1] the target: 31\n",
            "when input is [55] the target: 1\n",
            "when input is [55, 1] the target: 4\n",
            "when input is [55, 1, 4] the target: 0\n",
            "when input is [55, 1, 4, 0] the target: 1\n",
            "when input is [55, 1, 4, 0, 1] the target: 24\n",
            "when input is [55, 1, 4, 0, 1, 24] the target: 38\n",
            "when input is [55, 1, 4, 0, 1, 24, 38] the target: 35\n",
            "when input is [55, 1, 4, 0, 1, 24, 38, 35] the target: 1\n",
            "when input is [55, 1, 4, 0, 1, 24, 38, 35, 1] the target: 49\n",
            "when input is [55, 1, 4, 0, 1, 24, 38, 35, 1, 49] the target: 46\n",
            "when input is [55, 1, 4, 0, 1, 24, 38, 35, 1, 49, 46] the target: 31\n",
            "when input is [55, 1, 4, 0, 1, 24, 38, 35, 1, 49, 46, 31] the target: 48\n",
            "when input is [55, 1, 4, 0, 1, 24, 38, 35, 1, 49, 46, 31, 48] the target: 41\n",
            "when input is [55, 1, 4, 0, 1, 24, 38, 35, 1, 49, 46, 31, 48, 41] the target: 42\n",
            "when input is [55, 1, 4, 0, 1, 24, 38, 35, 1, 49, 46, 31, 48, 41, 42] the target: 39\n",
            "when input is [55, 1, 4, 0, 1, 24, 38, 35, 1, 49, 46, 31, 48, 41, 42, 39] the target: 35\n",
            "when input is [46] the target: 42\n",
            "when input is [46, 42] the target: 39\n",
            "when input is [46, 42, 39] the target: 35\n",
            "when input is [46, 42, 39, 35] the target: 49\n",
            "when input is [46, 42, 39, 35, 49] the target: 1\n",
            "when input is [46, 42, 39, 35, 49, 1] the target: 53\n",
            "when input is [46, 42, 39, 35, 49, 1, 53] the target: 39\n",
            "when input is [46, 42, 39, 35, 49, 1, 53, 39] the target: 50\n",
            "when input is [46, 42, 39, 35, 49, 1, 53, 39, 50] the target: 38\n",
            "when input is [46, 42, 39, 35, 49, 1, 53, 39, 50, 38] the target: 1\n",
            "when input is [46, 42, 39, 35, 49, 1, 53, 39, 50, 38, 1] the target: 31\n",
            "when input is [46, 42, 39, 35, 49, 1, 53, 39, 50, 38, 1, 31] the target: 44\n",
            "when input is [46, 42, 39, 35, 49, 1, 53, 39, 50, 38, 1, 31, 44] the target: 37\n",
            "when input is [46, 42, 39, 35, 49, 1, 53, 39, 50, 38, 1, 31, 44, 37] the target: 35\n",
            "when input is [46, 42, 39, 35, 49, 1, 53, 39, 50, 38, 1, 31, 44, 37, 35] the target: 48\n",
            "when input is [46, 42, 39, 35, 49, 1, 53, 39, 50, 38, 1, 31, 44, 37, 35, 48] the target: 1\n",
            "when input is [34] the target: 1\n",
            "when input is [34, 1] the target: 33\n",
            "when input is [34, 1, 33] the target: 38\n",
            "when input is [34, 1, 33, 38] the target: 35\n",
            "when input is [34, 1, 33, 38, 35] the target: 33\n",
            "when input is [34, 1, 33, 38, 35, 33] the target: 41\n",
            "when input is [34, 1, 33, 38, 35, 33, 41] the target: 1\n",
            "when input is [34, 1, 33, 38, 35, 33, 41, 1] the target: 36\n",
            "when input is [34, 1, 33, 38, 35, 33, 41, 1, 36] the target: 45\n",
            "when input is [34, 1, 33, 38, 35, 33, 41, 1, 36, 45] the target: 48\n",
            "when input is [34, 1, 33, 38, 35, 33, 41, 1, 36, 45, 48] the target: 1\n",
            "when input is [34, 1, 33, 38, 35, 33, 41, 1, 36, 45, 48, 1] the target: 55\n",
            "when input is [34, 1, 33, 38, 35, 33, 41, 1, 36, 45, 48, 1, 55] the target: 45\n",
            "when input is [34, 1, 33, 38, 35, 33, 41, 1, 36, 45, 48, 1, 55, 45] the target: 51\n",
            "when input is [34, 1, 33, 38, 35, 33, 41, 1, 36, 45, 48, 1, 55, 45, 51] the target: 48\n",
            "when input is [34, 1, 33, 38, 35, 33, 41, 1, 36, 45, 48, 1, 55, 45, 51, 48] the target: 49\n"
          ]
        }
      ]
    },
    {
      "cell_type": "code",
      "source": [
        "import torch\n",
        "import torch.nn as nn\n",
        "from torch.nn import functional as F\n",
        "torch.manual_seed(1337)\n",
        "\n",
        "vocab_size = len(chars)\n",
        "\n",
        "class BigramLanguageModel(nn.Module):\n",
        "\n",
        "    def __init__(self, vocab_size):\n",
        "        super().__init__()\n",
        "        # each token directly reads off the logits for the next token from a lookup table\n",
        "        self.token_embedding_table = nn.Embedding(vocab_size, vocab_size)\n",
        "\n",
        "    def forward(self, idx, targets=None):\n",
        "\n",
        "        # idx and targets are both (B,T) tensor of integers\n",
        "        logits = self.token_embedding_table(idx) # (B,T,C)\n",
        "\n",
        "        if targets is None:\n",
        "            loss = None\n",
        "        else:\n",
        "            B, T, C = logits.shape\n",
        "            logits = logits.view(B*T, C)\n",
        "            targets = targets.view(B*T)\n",
        "            loss = F.cross_entropy(logits, targets)\n",
        "\n",
        "        return logits, loss\n",
        "\n",
        "    def generate(self, idx, max_new_tokens):\n",
        "        # idx is (B, T) array of indices in the current context\n",
        "        for _ in range(max_new_tokens):\n",
        "            # get the predictions\n",
        "            logits, loss = self(idx)\n",
        "            # focus only on the last time step\n",
        "            logits = logits[:, -1, :] # becomes (B, C)\n",
        "            # apply softmax to get probabilities\n",
        "            probs = F.softmax(logits, dim=-1) # (B, C)\n",
        "            # sample from the distribution\n",
        "            idx_next = torch.multinomial(probs, num_samples=1) # (B, 1)\n",
        "            # append sampled index to the running sequence\n",
        "            idx = torch.cat((idx, idx_next), dim=1) # (B, T+1)\n",
        "        return idx\n",
        "\n",
        "m = BigramLanguageModel(vocab_size)\n",
        "logits, loss = m(xb, yb)\n",
        "print(logits.shape)\n",
        "print(loss)\n",
        "\n",
        "print(decode(m.generate(idx = torch.zeros((1, 1), dtype=torch.long), max_new_tokens=100)[0].tolist()))\n"
      ],
      "metadata": {
        "colab": {
          "base_uri": "https://localhost:8080/"
        },
        "id": "p2SZRgej4nv8",
        "outputId": "22116f6f-facc-47c5-95c5-74052d010a74"
      },
      "execution_count": null,
      "outputs": [
        {
          "output_type": "stream",
          "name": "stdout",
          "text": [
            "torch.Size([640, 57])\n",
            "tensor(4.5551, grad_fn=<NllLossBackward0>)\n",
            "\n",
            "Cbp,HZOccjxqerAiK\n",
            "wwVpBxbhuBr rXvaPywWhA\n",
            "nL\n",
            "rbqFSiytRjATRHP.cTxDnYVSQXZ.Q!YwLjDPV\n",
            "\n",
            "KBhmpNcpQChsCVXbX\n"
          ]
        }
      ]
    },
    {
      "cell_type": "code",
      "source": [
        "optimizer = torch.optim.AdamW(m.parameters(), lr=1e-3)"
      ],
      "metadata": {
        "id": "7PN4IqwJ4v9J"
      },
      "execution_count": null,
      "outputs": []
    },
    {
      "cell_type": "code",
      "source": [
        "batch_size = 32\n",
        "for steps in range(300):\n",
        "\n",
        "    # sample a batch of data\n",
        "    xb, yb = get_batch('train')\n",
        "\n",
        "    # evaluate the loss\n",
        "    logits, loss = m(xb, yb)\n",
        "    optimizer.zero_grad(set_to_none=True)\n",
        "    loss.backward()\n",
        "    optimizer.step()\n",
        "\n",
        "print(loss.item())\n"
      ],
      "metadata": {
        "colab": {
          "base_uri": "https://localhost:8080/"
        },
        "id": "H5Bu2SVy4_hY",
        "outputId": "389a836d-e2e3-4b05-a1fa-6f3b6f567ebd"
      },
      "execution_count": null,
      "outputs": [
        {
          "output_type": "stream",
          "name": "stdout",
          "text": [
            "2.4821109771728516\n"
          ]
        }
      ]
    },
    {
      "cell_type": "code",
      "source": [
        "print(decode(m.generate(idx = torch.zeros((1, 1), dtype=torch.long), max_new_tokens=500)[0].tolist()))"
      ],
      "metadata": {
        "colab": {
          "base_uri": "https://localhost:8080/"
        },
        "id": "TgUkfIhm5LdS",
        "outputId": "de38dd2e-e36a-4f74-f30a-c57a933921f7"
      },
      "execution_count": null,
      "outputs": [
        {
          "output_type": "stream",
          "name": "stdout",
          "text": [
            "\n",
            " orTTho nXD wais h Uphaus t aGinewu s nUDf the bs toomonRS s aseXc!gFFUz sy gh  medsk Stpownd flyqu . trd Sh ben tperso cho tbjnthaneneryoaldeveL kindmZ\n",
            "waLurighanouinewlal wlercke , , veIAee douxtlzalamed athit ly t pOnRes vesk winedoud onte,T tKane  tMSaHEMye mle n d I . angeNGm reeleRYomou waro in  tasEfat, hweay  ,oNNMcawligho thedrechevozyDQ, owoutXYOvene Haca homutXert ,FAsasit leXke ckictame G s h toKpus . stThont ththenYe semulippe boANshe ar g eng ai miors OlllisheaZanTOn sqaghapaHithon\n"
          ]
        }
      ]
    },
    {
      "cell_type": "markdown",
      "source": [
        "## The mathematical trick in self-attention"
      ],
      "metadata": {
        "id": "XinV8nmAnmKN"
      }
    },
    {
      "cell_type": "code",
      "source": [
        "# toy example illustrating how matrix multiplication can be used for a \"weighted aggregation\"\n",
        "torch.manual_seed(42)\n",
        "a = torch.tril(torch.ones(3, 3))\n",
        "a = a / torch.sum(a, 1, keepdim=True)\n",
        "b = torch.randint(0,10,(3,2)).float()\n",
        "c = a @ b\n",
        "print('a=')\n",
        "print(a)\n",
        "print('--')\n",
        "print('b=')\n",
        "print(b)\n",
        "print('--')\n",
        "print('c=')\n",
        "print(c)"
      ],
      "metadata": {
        "colab": {
          "base_uri": "https://localhost:8080/"
        },
        "id": "tukiH-NbRBhA",
        "outputId": "f8d6fbd5-7705-4a88-f1b4-cf7465a54832"
      },
      "execution_count": null,
      "outputs": [
        {
          "output_type": "stream",
          "name": "stdout",
          "text": [
            "a=\n",
            "tensor([[1.0000, 0.0000, 0.0000],\n",
            "        [0.5000, 0.5000, 0.0000],\n",
            "        [0.3333, 0.3333, 0.3333]])\n",
            "--\n",
            "b=\n",
            "tensor([[2., 7.],\n",
            "        [6., 4.],\n",
            "        [6., 5.]])\n",
            "--\n",
            "c=\n",
            "tensor([[2.0000, 7.0000],\n",
            "        [4.0000, 5.5000],\n",
            "        [4.6667, 5.3333]])\n"
          ]
        }
      ]
    },
    {
      "cell_type": "code",
      "source": [
        "# consider the following toy example:\n",
        "\n",
        "torch.manual_seed(1337)\n",
        "B,T,C = 4,8,2 # batch, time, channels\n",
        "x = torch.randn(B,T,C)\n",
        "x.shape"
      ],
      "metadata": {
        "colab": {
          "base_uri": "https://localhost:8080/"
        },
        "id": "Hs_E24uRE8kr",
        "outputId": "f53d4015-3d3e-4856-bcb1-726acc4b593c"
      },
      "execution_count": null,
      "outputs": [
        {
          "output_type": "execute_result",
          "data": {
            "text/plain": [
              "torch.Size([4, 8, 2])"
            ]
          },
          "metadata": {},
          "execution_count": 32
        }
      ]
    },
    {
      "cell_type": "code",
      "source": [
        "# We want x[b,t] = mean_{i<=t} x[b,i]\n",
        "xbow = torch.zeros((B,T,C))\n",
        "for b in range(B):\n",
        "    for t in range(T):\n",
        "        xprev = x[b,:t+1] # (t,C)\n",
        "        xbow[b,t] = torch.mean(xprev, 0)\n"
      ],
      "metadata": {
        "id": "86NuXX0fn7ps"
      },
      "execution_count": null,
      "outputs": []
    },
    {
      "cell_type": "code",
      "source": [
        "# version 2: using matrix multiply for a weighted aggregation\n",
        "wei = torch.tril(torch.ones(T, T))\n",
        "wei = wei / wei.sum(1, keepdim=True)\n",
        "xbow2 = wei @ x # (B, T, T) @ (B, T, C) ----> (B, T, C)\n",
        "torch.allclose(xbow, xbow2)"
      ],
      "metadata": {
        "colab": {
          "base_uri": "https://localhost:8080/"
        },
        "id": "yhdOAd6-wXkZ",
        "outputId": "6c8b426f-f52a-4d98-ea09-5e6ce9be2c2a"
      },
      "execution_count": null,
      "outputs": [
        {
          "output_type": "execute_result",
          "data": {
            "text/plain": [
              "False"
            ]
          },
          "metadata": {},
          "execution_count": 34
        }
      ]
    },
    {
      "cell_type": "code",
      "source": [
        "# version 3: use Softmax\n",
        "tril = torch.tril(torch.ones(T, T))\n",
        "wei = torch.zeros((T,T))\n",
        "wei = wei.masked_fill(tril == 0, float('-inf'))\n",
        "wei = F.softmax(wei, dim=-1)\n",
        "xbow3 = wei @ x\n",
        "torch.allclose(xbow, xbow3)\n"
      ],
      "metadata": {
        "colab": {
          "base_uri": "https://localhost:8080/"
        },
        "id": "wOURrfG-ysoL",
        "outputId": "8abd0341-5001-4dd6-d202-6acae89d4c0d"
      },
      "execution_count": null,
      "outputs": [
        {
          "output_type": "execute_result",
          "data": {
            "text/plain": [
              "False"
            ]
          },
          "metadata": {},
          "execution_count": 35
        }
      ]
    },
    {
      "cell_type": "code",
      "source": [
        "# version 4: self-attention!\n",
        "torch.manual_seed(1337)\n",
        "B,T,C = 4,8,32 # batch, time, channels\n",
        "x = torch.randn(B,T,C)\n",
        "\n",
        "# let's see a single Head perform self-attention\n",
        "head_size = 16\n",
        "key = nn.Linear(C, head_size, bias=False)\n",
        "query = nn.Linear(C, head_size, bias=False)\n",
        "value = nn.Linear(C, head_size, bias=False)\n",
        "k = key(x)   # (B, T, 16)\n",
        "q = query(x) # (B, T, 16)\n",
        "wei =  q @ k.transpose(-2, -1) # (B, T, 16) @ (B, 16, T) ---> (B, T, T)\n",
        "\n",
        "tril = torch.tril(torch.ones(T, T))\n",
        "#wei = torch.zeros((T,T))\n",
        "wei = wei.masked_fill(tril == 0, float('-inf'))\n",
        "wei = F.softmax(wei, dim=-1)\n",
        "\n",
        "v = value(x)\n",
        "out = wei @ v\n",
        "#out = wei @ x\n",
        "\n",
        "out.shape"
      ],
      "metadata": {
        "colab": {
          "base_uri": "https://localhost:8080/"
        },
        "id": "EDarxEWIRMKq",
        "outputId": "e488c215-06ba-46c1-877f-c44c75978f14"
      },
      "execution_count": null,
      "outputs": [
        {
          "output_type": "execute_result",
          "data": {
            "text/plain": [
              "torch.Size([4, 8, 16])"
            ]
          },
          "metadata": {},
          "execution_count": 36
        }
      ]
    },
    {
      "cell_type": "code",
      "source": [
        "wei[0]"
      ],
      "metadata": {
        "colab": {
          "base_uri": "https://localhost:8080/"
        },
        "id": "vT1hdtzXCjgL",
        "outputId": "f5a8564e-4b70-46ed-d886-996420129038"
      },
      "execution_count": null,
      "outputs": [
        {
          "output_type": "execute_result",
          "data": {
            "text/plain": [
              "tensor([[1.0000, 0.0000, 0.0000, 0.0000, 0.0000, 0.0000, 0.0000, 0.0000],\n",
              "        [0.1574, 0.8426, 0.0000, 0.0000, 0.0000, 0.0000, 0.0000, 0.0000],\n",
              "        [0.2088, 0.1646, 0.6266, 0.0000, 0.0000, 0.0000, 0.0000, 0.0000],\n",
              "        [0.5792, 0.1187, 0.1889, 0.1131, 0.0000, 0.0000, 0.0000, 0.0000],\n",
              "        [0.0294, 0.1052, 0.0469, 0.0276, 0.7909, 0.0000, 0.0000, 0.0000],\n",
              "        [0.0176, 0.2689, 0.0215, 0.0089, 0.6812, 0.0019, 0.0000, 0.0000],\n",
              "        [0.1691, 0.4066, 0.0438, 0.0416, 0.1048, 0.2012, 0.0329, 0.0000],\n",
              "        [0.0210, 0.0843, 0.0555, 0.2297, 0.0573, 0.0709, 0.2423, 0.2391]],\n",
              "       grad_fn=<SelectBackward0>)"
            ]
          },
          "metadata": {},
          "execution_count": 37
        }
      ]
    },
    {
      "cell_type": "markdown",
      "source": [
        "Notes:\n",
        "- Attention is a **communication mechanism**. Can be seen as nodes in a directed graph looking at each other and aggregating information with a weighted sum from all nodes that point to them, with data-dependent weights.\n",
        "- There is no notion of space. Attention simply acts over a set of vectors. This is why we need to positionally encode tokens.\n",
        "- Each example across batch dimension is of course processed completely independently and never \"talk\" to each other\n",
        "- In an \"encoder\" attention block just delete the single line that does masking with `tril`, allowing all tokens to communicate. This block here is called a \"decoder\" attention block because it has triangular masking, and is usually used in autoregressive settings, like language modeling.\n",
        "- \"self-attention\" just means that the keys and values are produced from the same source as queries. In \"cross-attention\", the queries still get produced from x, but the keys and values come from some other, external source (e.g. an encoder module)\n",
        "- \"Scaled\" attention additional divides `wei` by 1/sqrt(head_size). This makes it so when input Q,K are unit variance, wei will be unit variance too and Softmax will stay diffuse and not saturate too much. Illustration below"
      ],
      "metadata": {
        "id": "M5CvobiQ0pLr"
      }
    },
    {
      "cell_type": "code",
      "source": [
        "k = torch.randn(B,T,head_size)\n",
        "q = torch.randn(B,T,head_size)\n",
        "wei = q @ k.transpose(-2, -1) * head_size**-0.5"
      ],
      "metadata": {
        "id": "4SNbLq5z3oBw"
      },
      "execution_count": null,
      "outputs": []
    },
    {
      "cell_type": "code",
      "source": [
        "k.var()"
      ],
      "metadata": {
        "colab": {
          "base_uri": "https://localhost:8080/"
        },
        "id": "Nl6I9n9IRTSo",
        "outputId": "62c76631-eac6-4fec-bf14-e4e4ffeb962e"
      },
      "execution_count": null,
      "outputs": [
        {
          "output_type": "execute_result",
          "data": {
            "text/plain": [
              "tensor(1.0449)"
            ]
          },
          "metadata": {},
          "execution_count": 39
        }
      ]
    },
    {
      "cell_type": "code",
      "source": [
        "q.var()"
      ],
      "metadata": {
        "colab": {
          "base_uri": "https://localhost:8080/"
        },
        "id": "T1tQx7oeRvtc",
        "outputId": "57bff570-1128-477e-d305-99f177019a93"
      },
      "execution_count": null,
      "outputs": [
        {
          "output_type": "execute_result",
          "data": {
            "text/plain": [
              "tensor(1.0700)"
            ]
          },
          "metadata": {},
          "execution_count": 40
        }
      ]
    },
    {
      "cell_type": "code",
      "source": [
        "wei.var()"
      ],
      "metadata": {
        "colab": {
          "base_uri": "https://localhost:8080/"
        },
        "id": "MLb_odHU3iKM",
        "outputId": "8a5a5fb5-9296-49d8-962a-196bf32a07e9"
      },
      "execution_count": null,
      "outputs": [
        {
          "output_type": "execute_result",
          "data": {
            "text/plain": [
              "tensor(1.0918)"
            ]
          },
          "metadata": {},
          "execution_count": 41
        }
      ]
    },
    {
      "cell_type": "code",
      "source": [
        "torch.softmax(torch.tensor([0.1, -0.2, 0.3, -0.2, 0.5]), dim=-1)"
      ],
      "metadata": {
        "colab": {
          "base_uri": "https://localhost:8080/"
        },
        "id": "JB82yzt44REI",
        "outputId": "4ca29b04-622c-4928-f147-b34a701a5421"
      },
      "execution_count": null,
      "outputs": [
        {
          "output_type": "execute_result",
          "data": {
            "text/plain": [
              "tensor([0.1925, 0.1426, 0.2351, 0.1426, 0.2872])"
            ]
          },
          "metadata": {},
          "execution_count": 42
        }
      ]
    },
    {
      "cell_type": "code",
      "source": [
        "torch.softmax(torch.tensor([0.1, -0.2, 0.3, -0.2, 0.5])*8, dim=-1) # gets too peaky, converges to one-hot"
      ],
      "metadata": {
        "colab": {
          "base_uri": "https://localhost:8080/"
        },
        "id": "Mpt8569BB9_f",
        "outputId": "7c718650-b37b-4285-e63c-d576821828d2"
      },
      "execution_count": null,
      "outputs": [
        {
          "output_type": "execute_result",
          "data": {
            "text/plain": [
              "tensor([0.0326, 0.0030, 0.1615, 0.0030, 0.8000])"
            ]
          },
          "metadata": {},
          "execution_count": 43
        }
      ]
    },
    {
      "cell_type": "code",
      "source": [
        "class LayerNorm1d: # (used to be BatchNorm1d)\n",
        "\n",
        "  def __init__(self, dim, eps=1e-5, momentum=0.1):\n",
        "    self.eps = eps\n",
        "    self.gamma = torch.ones(dim)\n",
        "    self.beta = torch.zeros(dim)\n",
        "\n",
        "  def __call__(self, x):\n",
        "    # calculate the forward pass\n",
        "    xmean = x.mean(1, keepdim=True) # batch mean\n",
        "    xvar = x.var(1, keepdim=True) # batch variance\n",
        "    xhat = (x - xmean) / torch.sqrt(xvar + self.eps) # normalize to unit variance\n",
        "    self.out = self.gamma * xhat + self.beta\n",
        "    return self.out\n",
        "\n",
        "  def parameters(self):\n",
        "    return [self.gamma, self.beta]\n",
        "\n",
        "torch.manual_seed(1337)\n",
        "module = LayerNorm1d(100)\n",
        "x = torch.randn(32, 100) # batch size 32 of 100-dimensional vectors\n",
        "x = module(x)\n",
        "x.shape"
      ],
      "metadata": {
        "colab": {
          "base_uri": "https://localhost:8080/"
        },
        "id": "2Num7sX9CKOH",
        "outputId": "25b95072-ffbd-439d-d198-5c717dfa3acd"
      },
      "execution_count": null,
      "outputs": [
        {
          "output_type": "execute_result",
          "data": {
            "text/plain": [
              "torch.Size([32, 100])"
            ]
          },
          "metadata": {},
          "execution_count": 44
        }
      ]
    },
    {
      "cell_type": "code",
      "source": [
        "x[:,0].mean(), x[:,0].std() # mean,std of one feature across all batch inputs"
      ],
      "metadata": {
        "colab": {
          "base_uri": "https://localhost:8080/"
        },
        "id": "633T2cmnW1uk",
        "outputId": "024aad36-1a3f-4d3a-cb10-19e69ef01097"
      },
      "execution_count": null,
      "outputs": [
        {
          "output_type": "execute_result",
          "data": {
            "text/plain": [
              "(tensor(0.1469), tensor(0.8803))"
            ]
          },
          "metadata": {},
          "execution_count": 45
        }
      ]
    },
    {
      "cell_type": "code",
      "source": [
        "x[0,:].mean(), x[0,:].std() # mean,std of a single input from the batch, of its features"
      ],
      "metadata": {
        "colab": {
          "base_uri": "https://localhost:8080/"
        },
        "id": "LN9cK9BoXCYb",
        "outputId": "bc0424b0-9015-46b3-8b4c-e808a73e79ce"
      },
      "execution_count": null,
      "outputs": [
        {
          "output_type": "execute_result",
          "data": {
            "text/plain": [
              "(tensor(-9.5367e-09), tensor(1.0000))"
            ]
          },
          "metadata": {},
          "execution_count": 46
        }
      ]
    },
    {
      "cell_type": "code",
      "source": [
        "# French to English translation example:\n",
        "\n",
        "# <--------- ENCODE ------------------><--------------- DECODE ----------------->\n",
        "# les réseaux de neurones sont géniaux! <START> neural networks are awesome!<END>\n",
        "\n"
      ],
      "metadata": {
        "id": "dRJH6wM_XFfU"
      },
      "execution_count": null,
      "outputs": []
    },
    {
      "cell_type": "markdown",
      "source": [
        "### Full finished code, for reference\n",
        "\n",
        "You may want to refer directly to the git repo instead though."
      ],
      "metadata": {
        "id": "ZcvKeBXoZFOY"
      }
    },
    {
      "cell_type": "code",
      "source": [
        "import torch\n",
        "import torch.nn as nn\n",
        "from torch.nn import functional as F\n"
      ],
      "metadata": {
        "id": "A7I1oC0Vnez8"
      },
      "execution_count": null,
      "outputs": []
    },
    {
      "cell_type": "code",
      "source": [
        "batch_size = 20 # how many independent sequences will we process in parallel?\n",
        "block_size = 32 # what is the maximum context length for predictions?\n",
        "max_iters = 5000\n",
        "eval_interval = 100\n",
        "learning_rate = 1e-3\n",
        "device = 'cuda' if torch.cuda.is_available() else 'cpu'\n",
        "eval_iters = 200\n",
        "n_embd = 64\n",
        "n_head = 4\n",
        "n_layer = 4\n",
        "dropout = 0.0"
      ],
      "metadata": {
        "id": "wVL0O-k8k1ec"
      },
      "execution_count": null,
      "outputs": []
    },
    {
      "cell_type": "code",
      "source": [
        "def get_batch(split):\n",
        "    # generate a small batch of data of inputs x and targets y\n",
        "    data = train_data if split == 'train' else val_data\n",
        "    ix = torch.randint(len(data) - block_size, (batch_size,))\n",
        "    x = torch.stack([data[i:i+block_size] for i in ix])\n",
        "    y = torch.stack([data[i+1:i+block_size+1] for i in ix])\n",
        "    x, y = x.to(device), y.to(device)\n",
        "    return x, y\n",
        "\n",
        "@torch.no_grad()\n",
        "def estimate_loss():\n",
        "    out = {}\n",
        "    model.eval()\n",
        "    for split in ['train', 'val']:\n",
        "        losses = torch.zeros(eval_iters)\n",
        "        for k in range(eval_iters):\n",
        "            X, Y = get_batch(split)\n",
        "            logits, loss = model(X, Y)\n",
        "            losses[k] = loss.item()\n",
        "        out[split] = losses.mean()\n",
        "    model.train()\n",
        "    return out\n",
        "\n",
        "class Head(nn.Module):\n",
        "    \"\"\" one head of self-attention \"\"\"\n",
        "\n",
        "    def __init__(self, head_size):\n",
        "        super().__init__()\n",
        "        self.key = nn.Linear(n_embd, head_size, bias=False)\n",
        "        self.query = nn.Linear(n_embd, head_size, bias=False)\n",
        "        self.value = nn.Linear(n_embd, head_size, bias=False)\n",
        "        self.register_buffer('tril', torch.tril(torch.ones(block_size, block_size)))\n",
        "\n",
        "        self.dropout = nn.Dropout(dropout)\n",
        "\n",
        "    def forward(self, x):\n",
        "        B,T,C = x.shape\n",
        "        k = self.key(x)   # (B,T,C)\n",
        "        q = self.query(x) # (B,T,C)\n",
        "        # compute attention scores (\"affinities\")\n",
        "        wei = q @ k.transpose(-2,-1) * C**-0.5 # (B, T, C) @ (B, C, T) -> (B, T, T)\n",
        "        wei = wei.masked_fill(self.tril[:T, :T] == 0, float('-inf')) # (B, T, T)\n",
        "        wei = F.softmax(wei, dim=-1) # (B, T, T)\n",
        "        wei = self.dropout(wei)\n",
        "        # perform the weighted aggregation of the values\n",
        "        v = self.value(x) # (B,T,C)\n",
        "        out = wei @ v # (B, T, T) @ (B, T, C) -> (B, T, C)\n",
        "        return out\n",
        "\n",
        "class MultiHeadAttention(nn.Module):\n",
        "    \"\"\" multiple heads of self-attention in parallel \"\"\"\n",
        "\n",
        "    def __init__(self, num_heads, head_size):\n",
        "        super().__init__()\n",
        "        self.heads = nn.ModuleList([Head(head_size) for _ in range(num_heads)])\n",
        "        self.proj = nn.Linear(n_embd, n_embd)\n",
        "        self.dropout = nn.Dropout(dropout)\n",
        "\n",
        "    def forward(self, x):\n",
        "        out = torch.cat([h(x) for h in self.heads], dim=-1)\n",
        "        out = self.dropout(self.proj(out))\n",
        "        return out\n",
        "\n",
        "class FeedFoward(nn.Module):\n",
        "    \"\"\" a simple linear layer followed by a non-linearity \"\"\"\n",
        "\n",
        "    def __init__(self, n_embd):\n",
        "        super().__init__()\n",
        "        self.net = nn.Sequential(\n",
        "            nn.Linear(n_embd, 4 * n_embd),\n",
        "            nn.ReLU(),\n",
        "            nn.Linear(4 * n_embd, n_embd),\n",
        "            nn.Dropout(dropout),\n",
        "        )\n",
        "\n",
        "    def forward(self, x):\n",
        "        return self.net(x)\n",
        "\n",
        "class Block(nn.Module):\n",
        "    \"\"\" Transformer block: communication followed by computation \"\"\"\n",
        "\n",
        "    def __init__(self, n_embd, n_head):\n",
        "        # n_embd: embedding dimension, n_head: the number of heads we'd like\n",
        "        super().__init__()\n",
        "        head_size = n_embd // n_head\n",
        "        self.sa = MultiHeadAttention(n_head, head_size)\n",
        "        self.ffwd = FeedFoward(n_embd)\n",
        "        self.ln1 = nn.LayerNorm(n_embd)\n",
        "        self.ln2 = nn.LayerNorm(n_embd)\n",
        "\n",
        "    def forward(self, x):\n",
        "        x = x + self.sa(self.ln1(x))\n",
        "        x = x + self.ffwd(self.ln2(x))\n",
        "        return x\n",
        "\n",
        "# super simple bigram model\n",
        "class BigramLanguageModel(nn.Module):\n",
        "\n",
        "    def __init__(self):\n",
        "        super().__init__()\n",
        "        # each token directly reads off the logits for the next token from a lookup table\n",
        "        self.token_embedding_table = nn.Embedding(vocab_size, n_embd)\n",
        "        self.position_embedding_table = nn.Embedding(block_size, n_embd)\n",
        "        self.blocks = nn.Sequential(*[Block(n_embd, n_head=n_head) for _ in range(n_layer)])\n",
        "        self.ln_f = nn.LayerNorm(n_embd) # final layer norm\n",
        "        self.lm_head = nn.Linear(n_embd, vocab_size)\n",
        "\n",
        "    def forward(self, idx, targets=None):\n",
        "        B, T = idx.shape\n",
        "\n",
        "        # idx and targets are both (B,T) tensor of integers\n",
        "        tok_emb = self.token_embedding_table(idx) # (B,T,C)\n",
        "        pos_emb = self.position_embedding_table(torch.arange(T, device=device)) # (T,C)\n",
        "        x = tok_emb + pos_emb # (B,T,C)\n",
        "        x = self.blocks(x) # (B,T,C)\n",
        "        x = self.ln_f(x) # (B,T,C)\n",
        "        logits = self.lm_head(x) # (B,T,vocab_size)\n",
        "\n",
        "        if targets is None:\n",
        "            loss = None\n",
        "        else:\n",
        "            B, T, C = logits.shape\n",
        "            logits = logits.view(B*T, C)\n",
        "            targets = targets.view(B*T)\n",
        "            loss = F.cross_entropy(logits, targets)\n",
        "\n",
        "        return logits, loss\n",
        "\n",
        "    def generate(self, idx, max_new_tokens):\n",
        "        # idx is (B, T) array of indices in the current context\n",
        "        for _ in range(max_new_tokens):\n",
        "            # crop idx to the last block_size tokens\n",
        "            idx_cond = idx[:, -block_size:]\n",
        "            # get the predictions\n",
        "            logits, loss = self(idx_cond)\n",
        "            # focus only on the last time step\n",
        "            logits = logits[:, -1, :] # becomes (B, C)\n",
        "            # apply softmax to get probabilities\n",
        "            probs = F.softmax(logits, dim=-1) # (B, C)\n",
        "            # sample from the distribution\n",
        "            idx_next = torch.multinomial(probs, num_samples=1) # (B, 1)\n",
        "            # append sampled index to the running sequence\n",
        "            idx = torch.cat((idx, idx_next), dim=1) # (B, T+1)\n",
        "        return idx\n",
        "\n",
        "model = BigramLanguageModel()\n",
        "m = model.to(device)\n",
        "# print the number of parameters in the model\n",
        "print(sum(p.numel() for p in m.parameters())/1e6, 'M parameters')\n",
        "\n",
        "# create a PyTorch optimizer\n",
        "optimizer = torch.optim.AdamW(model.parameters(), lr=learning_rate)\n",
        "\n",
        "for iter in range(max_iters):\n",
        "\n",
        "    # every once in a while evaluate the loss on train and val sets\n",
        "    if iter % eval_interval == 0 or iter == max_iters - 1:\n",
        "        losses = estimate_loss()\n",
        "        print(f\"step {iter}: train loss {losses['train']:.4f}, val loss {losses['val']:.4f}\")\n",
        "\n",
        "    # sample a batch of data\n",
        "    xb, yb = get_batch('train')\n",
        "\n",
        "    # evaluate the loss\n",
        "    logits, loss = model(xb, yb)\n",
        "    optimizer.zero_grad(set_to_none=True)\n",
        "    loss.backward()\n",
        "    optimizer.step()\n",
        "\n",
        "# generate from the model\n",
        "context = torch.zeros((1, 1), dtype=torch.long, device=device)\n",
        "print(decode(m.generate(context, max_new_tokens=2000)[0].tolist()))\n"
      ],
      "metadata": {
        "colab": {
          "base_uri": "https://localhost:8080/"
        },
        "id": "OnKGdVCAkr_9",
        "outputId": "24d37ed5-405f-48eb-9a73-2f6c2147903d"
      },
      "execution_count": null,
      "outputs": [
        {
          "output_type": "stream",
          "name": "stdout",
          "text": [
            "0.208697 M parameters\n",
            "step 0: train loss 4.2872, val loss 4.2902\n",
            "step 100: train loss 2.4598, val loss 2.4526\n",
            "step 200: train loss 2.3310, val loss 2.3426\n",
            "step 300: train loss 2.2324, val loss 2.2336\n",
            "step 400: train loss 2.1669, val loss 2.1581\n",
            "step 500: train loss 2.0889, val loss 2.0983\n",
            "step 600: train loss 2.0325, val loss 2.0257\n",
            "step 700: train loss 1.9712, val loss 1.9892\n",
            "step 800: train loss 1.9455, val loss 1.9462\n",
            "step 900: train loss 1.9084, val loss 1.9122\n",
            "step 1000: train loss 1.8866, val loss 1.8823\n",
            "step 1100: train loss 1.8791, val loss 1.8564\n",
            "step 1200: train loss 1.8408, val loss 1.8550\n",
            "step 1300: train loss 1.8172, val loss 1.8178\n",
            "step 1400: train loss 1.8004, val loss 1.8152\n",
            "step 1500: train loss 1.7793, val loss 1.7898\n",
            "step 1600: train loss 1.7601, val loss 1.7778\n",
            "step 1700: train loss 1.7587, val loss 1.7673\n",
            "step 1800: train loss 1.7510, val loss 1.7493\n",
            "step 1900: train loss 1.7406, val loss 1.7478\n",
            "step 2000: train loss 1.7127, val loss 1.7279\n",
            "step 2100: train loss 1.7134, val loss 1.7160\n",
            "step 2200: train loss 1.7041, val loss 1.7140\n",
            "step 2300: train loss 1.6942, val loss 1.7043\n",
            "step 2400: train loss 1.7015, val loss 1.7080\n",
            "step 2500: train loss 1.6879, val loss 1.6932\n",
            "step 2600: train loss 1.6844, val loss 1.6691\n",
            "step 2700: train loss 1.6811, val loss 1.6774\n",
            "step 2800: train loss 1.6731, val loss 1.6737\n",
            "step 2900: train loss 1.6576, val loss 1.6676\n",
            "step 3000: train loss 1.6704, val loss 1.6823\n",
            "step 3100: train loss 1.6441, val loss 1.6608\n",
            "step 3200: train loss 1.6399, val loss 1.6475\n",
            "step 3300: train loss 1.6251, val loss 1.6451\n",
            "step 3400: train loss 1.6291, val loss 1.6349\n",
            "step 3500: train loss 1.6188, val loss 1.6178\n",
            "step 3600: train loss 1.6152, val loss 1.6285\n",
            "step 3700: train loss 1.6180, val loss 1.6260\n",
            "step 3800: train loss 1.6075, val loss 1.6106\n",
            "step 3900: train loss 1.6181, val loss 1.6191\n",
            "step 4000: train loss 1.6106, val loss 1.6102\n",
            "step 4100: train loss 1.5909, val loss 1.6107\n",
            "step 4200: train loss 1.5963, val loss 1.6072\n",
            "step 4300: train loss 1.5924, val loss 1.6037\n",
            "step 4400: train loss 1.5834, val loss 1.5957\n",
            "step 4500: train loss 1.5944, val loss 1.5930\n",
            "step 4600: train loss 1.5780, val loss 1.5849\n",
            "step 4700: train loss 1.6005, val loss 1.6031\n",
            "step 4800: train loss 1.5806, val loss 1.5803\n",
            "step 4900: train loss 1.5815, val loss 1.5774\n",
            "step 4999: train loss 1.5741, val loss 1.5945\n",
            "\n",
            " Tour get over people frozed to have I ll ones this streep seech would steepince bupon wack codes in his write .  That are teturance so with gardon seelf scare repearedure of have up were realifulitus  newline newline Man palan ge one of his bussed volacted about now drens , all roltypushermer for the tarling sea . And is there its write out life to their nathing  newline newline They seatily spets grebring into up . Anyworen his given .  newline newline  If hagded if ucicizen where I started his wants of here , world here get . newline newline As  I llooked of tempile off man in her getterioned strates of metheredimes up , we larts a estrasseridy ourser me  Night or a going arice back , your us them . He could next with the firsmen imagined for jascemented him . I head astays seem . I ve not it all a gears    newline newline Muck a refortesused arous stalls any were vespodenty time , they infterst on the colfures of once , and nowf tookaving my muff aword .  newline newline newline Haren is hand belood . The plowine ... Bast it was the wording from time to the rend to sunkers say off arler rrealt s will ret cilled utclies to me , yes with fall lin its any detoodations towards . And thousy one over in wheer three seep ship were knowlededanes , whikeris to know or far . It have lapped to perseliencels   Well Kellecorse trildne bordes in for the safeur , takes . Oher contarce traight . newline newline A lacker , youngerld down . I ve her all ejifral . Alvive the croar weast are your anto stearly .  HP what mitiaes ! Jon Yyou re lo maket out a treagished would detpects and to loose the have progting , agnesing al one the ells . Sudtely for , Korritifly   And you year . My anknyway . They eyes people grant him footer two left arming . newline newline  It s ty lost with weating your langs in her what housf there her sided , toward She hallwhater to there . I  dreal attonal to everytherd is a find terrecting up brilled to .  Why stoches in the well step has thoutak and th\n"
          ]
        }
      ]
    }
  ]
}